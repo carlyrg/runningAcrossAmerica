{
 "cells": [
  {
   "cell_type": "code",
   "execution_count": 1,
   "metadata": {},
   "outputs": [],
   "source": [
    "import requests\n",
    "from lxml import html\n",
    "import pandas as pd\n",
    "from bs4 import BeautifulSoup\n",
    "import re\n",
    "import sys\n",
    "from datetime import datetime\n",
    "import time\n",
    "import numpy as np\n",
    "import json\n",
    "from config import *\n",
    "\n",
    "from selenium import webdriver\n",
    "from selenium.webdriver.common.keys import Keys\n",
    "from selenium.webdriver.common.by import By\n",
    "from selenium.webdriver.support.ui import WebDriverWait\n",
    "from selenium.webdriver.support import expected_conditions as EC\n",
    "from selenium.common.exceptions import TimeoutException\n",
    "from selenium.webdriver.chrome.options import Options\n",
    "\n",
    "import time\n",
    "import json\n",
    "import re\n",
    "from tqdm import tqdm"
   ]
  },
  {
   "cell_type": "code",
   "execution_count": 91,
   "metadata": {},
   "outputs": [],
   "source": [
    "#strava\n",
    "\n",
    "# stats= https://www.strava.com/activities/586018101/streams?stream_types%5B%5D=timer_time&stream_types%5B%5D=altitude&stream_types%5B%5D=heartrate&stream_types%5B%5D=cadence&stream_types%5B%5D=temp&stream_types%5B%5D=distance&stream_types%5B%5D=grade_smooth&stream_types%5B%5D=time&stream_types%5B%5D=grade_adjusted_distance&_=1537842990620\n",
    "# latlng = https://www.strava.com/activities/586018101/streams?stream_types%5B%5D=timer_time&stream_types%5B%5D=latlng&_=1537842990619\n",
    "\n",
    "pete = \"https://www.strava.com/athletes/16102568/training/log?feature=sidebar-progress-goals-v2\"\n",
    "jeremy = \"https://www.strava.com/athletes/16102568/training/log?feature=sidebar-progress-goals-v2\"\n"
   ]
  },
  {
   "cell_type": "code",
   "execution_count": 2,
   "metadata": {},
   "outputs": [],
   "source": [
    "#create text files of urls for activity, stats, latlng\n",
    "\n",
    "def get_json_links():\n",
    "    \n",
    "    try:\n",
    "        #load webpage\n",
    "        pete = \"https://www.strava.com/athletes/16102568/training/log?feature=sidebar-progress-goals-v2\"\n",
    "        browser = webdriver.Chrome() \n",
    "        browser.get(pete) #navigate to the page\n",
    "        browser.implicitly_wait(5)\n",
    "\n",
    "        #sign-in\n",
    "        username = browser.find_element_by_id('email')\n",
    "        username.clear()\n",
    "        username.send_keys(username_c)\n",
    "\n",
    "        password = browser.find_element_by_id('password')\n",
    "        password.clear()\n",
    "        password.send_keys(strava_pw)\n",
    "\n",
    "        browser.find_element_by_id(\"login-button\").click()\n",
    "\n",
    "        #select year on side\n",
    "        year = browser.find_element_by_xpath('//*[@id=\"events-nav\"]/li[3]/a').click()\n",
    "\n",
    "        #select month on side\n",
    "        month = browser.find_element_by_xpath('//*[@id=\"events-nav\"]/li[3]/ol/li[3]/a').click()\n",
    "\n",
    "        #access the right part of page so visible by browser\n",
    "        october = browser.find_element_by_xpath('//*[@id=\"2016y37w\"]')\n",
    "        webdriver.ActionChains(browser).move_to_element(october).click()\n",
    "\n",
    "        #find activity link number for all on page\n",
    "        browser.implicitly_wait(3)\n",
    "        links = browser.find_elements_by_class_name('activity-link')\n",
    "        \n",
    "        #extract activity id, stats url, geo data url and store in lists\n",
    "        #activity stats json\n",
    "        pk_activity = []\n",
    "        pk_activity_id = []\n",
    "        pk_latlng = []\n",
    "\n",
    "\n",
    "        for link in links:\n",
    "            a = link.get_attribute(\"id\")\n",
    "            b = a.split(\"-\")[-1]\n",
    "\n",
    "            #return dashboard back for activity\n",
    "            pk_activity_id.append(\"https://www.strava.com/activities/{}\".format(b))\n",
    "\n",
    "            #return json page for activity\n",
    "            pk_activity.append(\"https://www.strava.com/activities/{}/streams?stream_types%5B%5D=altitude&stream_types%5B%5D=heartrate&stream_types%5B%5D=cadence&stream_types%5B%5D=temp&stream_types%5B%5D=distance&stream_types%5B%5D=grade_smooth&stream_types%5B%5D=time&stream_types%5B%5D=grade_adjusted_distance&_=1538018467153\".format(b))\n",
    "            \n",
    "            #return json page for latlng\n",
    "            pk_latlng.append(\"https://www.strava.com/activities/{}/streams?stream_types%5B%5D=timer_time&stream_types%5B%5D=latlng&_=1537842990619\".format(b))\n",
    "\n",
    "\n",
    "    finally:\n",
    "        browser.quit()\n",
    "#         with open('pk_activities_list.txt', 'w') as f:\n",
    "#             for item in pk_activity:\n",
    "#                 f.write(\"%s\\n\" % item)\n",
    "#         with open('pk_latlng_list.txt', 'w') as f:\n",
    "#             for item in pk_latlng:\n",
    "#                 f.write(\"%s\\n\" % item)\n",
    "#         with open('pk_activity_id.txt', 'w') as f:\n",
    "#             for item in pk_activity_id:\n",
    "#                 f.write(\"%s\\n\" % item)\n",
    "        \n",
    "    return pk_activity, pk_activity_id, pk_latlng\n",
    "\n",
    "\n",
    "pk_activity, pk_activity_id, pk_latlng = get_json_links() # This gets all the links and writes a text file\n"
   ]
  },
  {
   "cell_type": "code",
   "execution_count": 51,
   "metadata": {
    "collapsed": true
   },
   "outputs": [
    {
     "name": "stderr",
     "output_type": "stream",
     "text": [
      "\n",
      "  0%|                                                                                          | 0/330 [00:00<?, ?it/s]\n",
      "  0%|▏                                                                                 | 1/330 [00:02<15:16,  2.78s/it]\n",
      "  1%|▍                                                                                 | 2/330 [00:05<15:29,  2.83s/it]\n",
      "  1%|▋                                                                                 | 3/330 [00:08<15:33,  2.85s/it]\n",
      "  1%|▉                                                                                 | 4/330 [00:11<15:34,  2.87s/it]\n",
      "  2%|█▏                                                                                | 5/330 [00:14<15:13,  2.81s/it]\n",
      "  2%|█▍                                                                                | 6/330 [00:16<14:58,  2.77s/it]\n",
      "  2%|█▋                                                                                | 7/330 [00:19<14:58,  2.78s/it]\n",
      "  2%|█▉                                                                                | 8/330 [00:22<15:17,  2.85s/it]\n",
      "  3%|██▏                                                                               | 9/330 [00:25<14:57,  2.80s/it]\n",
      "  3%|██▍                                                                              | 10/330 [00:28<14:57,  2.81s/it]\n",
      "  3%|██▋                                                                              | 11/330 [00:31<15:06,  2.84s/it]\n",
      "  4%|██▉                                                                              | 12/330 [00:34<15:18,  2.89s/it]\n",
      "  4%|███▏                                                                             | 13/330 [00:37<15:56,  3.02s/it]"
     ]
    },
    {
     "name": "stdout",
     "output_type": "stream",
     "text": [
      "https://www.strava.com/activities/1850952249/streams?stream_types%5B%5D=timer_time&stream_types%5B%5D=latlng&_=1537842990619 Message: no such element: Unable to locate element: {\"method\":\"tag name\",\"selector\":\"pre\"}\n",
      "  (Session info: chrome=69.0.3497.100)\n",
      "  (Driver info: chromedriver=2.41.578737 (49da6702b16031c40d63e5618de0\n"
     ]
    },
    {
     "name": "stderr",
     "output_type": "stream",
     "text": [
      "\n",
      "  4%|███▍                                                                             | 14/330 [00:40<15:41,  2.98s/it]\n",
      "  5%|███▋                                                                             | 15/330 [00:43<15:27,  2.95s/it]\n",
      "  5%|███▉                                                                             | 16/330 [00:46<15:26,  2.95s/it]\n",
      "  5%|████▏                                                                            | 17/330 [00:49<15:35,  2.99s/it]\n",
      "  5%|████▍                                                                            | 18/330 [00:52<15:41,  3.02s/it]\n",
      "  6%|████▋                                                                            | 19/330 [00:55<16:02,  3.10s/it]\n",
      "  6%|████▉                                                                            | 20/330 [00:58<16:14,  3.14s/it]\n",
      "  6%|█████▏                                                                           | 21/330 [01:01<15:28,  3.00s/it]\n",
      "  7%|█████▍                                                                           | 22/330 [01:04<15:50,  3.09s/it]\n",
      "  7%|█████▋                                                                           | 23/330 [01:07<15:32,  3.04s/it]\n",
      "  7%|█████▉                                                                           | 24/330 [01:10<15:15,  2.99s/it]\n",
      "  8%|██████▏                                                                          | 25/330 [01:13<15:20,  3.02s/it]\n",
      "  8%|██████▍                                                                          | 26/330 [01:16<15:14,  3.01s/it]\n",
      "  8%|██████▋                                                                          | 27/330 [01:19<14:54,  2.95s/it]"
     ]
    },
    {
     "name": "stdout",
     "output_type": "stream",
     "text": [
      "https://www.strava.com/activities//streams?stream_types%5B%5D=timer_time&stream_types%5B%5D=latlng&_=1537842990619 list index out of range\n"
     ]
    },
    {
     "name": "stderr",
     "output_type": "stream",
     "text": [
      "\n",
      "  8%|██████▊                                                                          | 28/330 [01:21<13:26,  2.67s/it]\n",
      "  9%|███████                                                                          | 29/330 [01:24<14:10,  2.83s/it]\n",
      "  9%|███████▎                                                                         | 30/330 [01:27<13:40,  2.73s/it]\n",
      "  9%|███████▌                                                                         | 31/330 [01:29<13:28,  2.70s/it]\n",
      " 10%|███████▊                                                                         | 32/330 [01:32<13:41,  2.76s/it]\n",
      " 10%|████████                                                                         | 33/330 [01:35<14:05,  2.85s/it]\n",
      " 10%|████████▎                                                                        | 34/330 [01:38<14:05,  2.86s/it]\n",
      " 11%|████████▌                                                                        | 35/330 [01:41<13:52,  2.82s/it]\n",
      " 11%|████████▊                                                                        | 36/330 [01:44<14:37,  2.98s/it]\n",
      " 11%|█████████                                                                        | 37/330 [01:47<14:30,  2.97s/it]\n",
      " 12%|█████████▎                                                                       | 38/330 [01:50<14:30,  2.98s/it]\n",
      " 12%|█████████▌                                                                       | 39/330 [01:53<13:58,  2.88s/it]\n",
      " 12%|█████████▊                                                                       | 40/330 [01:56<13:52,  2.87s/it]\n",
      " 12%|██████████                                                                       | 41/330 [01:59<13:45,  2.86s/it]\n",
      " 13%|██████████▎                                                                      | 42/330 [02:02<14:02,  2.92s/it]\n",
      " 13%|██████████▌                                                                      | 43/330 [02:05<14:20,  3.00s/it]\n",
      " 13%|██████████▊                                                                      | 44/330 [02:07<13:35,  2.85s/it]\n",
      " 14%|███████████                                                                      | 45/330 [02:11<14:17,  3.01s/it]\n",
      " 14%|███████████▎                                                                     | 46/330 [02:13<13:45,  2.91s/it]\n",
      " 14%|███████████▌                                                                     | 47/330 [02:16<13:45,  2.92s/it]\n",
      " 15%|███████████▊                                                                     | 48/330 [02:19<13:43,  2.92s/it]\n",
      " 15%|████████████                                                                     | 49/330 [02:22<13:36,  2.91s/it]\n",
      " 15%|████████████▎                                                                    | 50/330 [02:25<13:51,  2.97s/it]\n",
      " 15%|████████████▌                                                                    | 51/330 [02:28<14:09,  3.04s/it]\n",
      " 16%|████████████▊                                                                    | 52/330 [02:31<13:27,  2.90s/it]\n",
      " 16%|█████████████                                                                    | 53/330 [02:34<13:51,  3.00s/it]\n",
      " 16%|█████████████▎                                                                   | 54/330 [02:37<13:31,  2.94s/it]\n",
      " 17%|█████████████▌                                                                   | 55/330 [02:40<13:32,  2.96s/it]\n",
      " 17%|█████████████▋                                                                   | 56/330 [02:43<13:28,  2.95s/it]\n",
      " 17%|█████████████▉                                                                   | 57/330 [02:46<13:26,  2.95s/it]\n",
      " 18%|██████████████▏                                                                  | 58/330 [02:49<12:59,  2.86s/it]\n",
      " 18%|██████████████▍                                                                  | 59/330 [02:52<13:18,  2.94s/it]\n",
      " 18%|██████████████▋                                                                  | 60/330 [02:55<13:05,  2.91s/it]\n",
      " 18%|██████████████▉                                                                  | 61/330 [02:58<13:18,  2.97s/it]\n",
      " 19%|███████████████▏                                                                 | 62/330 [03:01<13:28,  3.02s/it]\n",
      " 19%|███████████████▍                                                                 | 63/330 [03:03<12:28,  2.80s/it]\n",
      " 19%|███████████████▋                                                                 | 64/330 [03:06<12:48,  2.89s/it]\n",
      " 20%|███████████████▉                                                                 | 65/330 [03:09<12:46,  2.89s/it]\n",
      " 20%|████████████████▏                                                                | 66/330 [03:12<12:56,  2.94s/it]"
     ]
    },
    {
     "name": "stdout",
     "output_type": "stream",
     "text": [
      "https://www.strava.com/activities/1748033438/streams?stream_types%5B%5D=timer_time&stream_types%5B%5D=latlng&_=1537842990619 Message: no such element: Unable to locate element: {\"method\":\"tag name\",\"selector\":\"pre\"}\n",
      "  (Session info: chrome=69.0.3497.100)\n",
      "  (Driver info: chromedriver=2.41.578737 (49da6702b16031c40d63e5618de0\n"
     ]
    },
    {
     "name": "stderr",
     "output_type": "stream",
     "text": [
      "\n",
      " 20%|████████████████▍                                                                | 67/330 [03:15<12:56,  2.95s/it]\n",
      " 21%|████████████████▋                                                                | 68/330 [03:18<12:54,  2.96s/it]\n",
      " 21%|████████████████▉                                                                | 69/330 [03:21<13:01,  2.99s/it]\n",
      " 21%|█████████████████▏                                                               | 70/330 [03:25<13:45,  3.18s/it]\n",
      " 22%|█████████████████▍                                                               | 71/330 [03:27<12:44,  2.95s/it]"
     ]
    },
    {
     "name": "stdout",
     "output_type": "stream",
     "text": [
      "https://www.strava.com/activities//streams?stream_types%5B%5D=timer_time&stream_types%5B%5D=latlng&_=1537842990619 list index out of range\n"
     ]
    },
    {
     "name": "stderr",
     "output_type": "stream",
     "text": [
      "\n",
      " 22%|█████████████████▋                                                               | 72/330 [03:29<11:28,  2.67s/it]\n",
      " 22%|█████████████████▉                                                               | 73/330 [03:32<11:09,  2.61s/it]\n",
      " 22%|██████████████████▏                                                              | 74/330 [03:34<10:53,  2.55s/it]"
     ]
    },
    {
     "name": "stdout",
     "output_type": "stream",
     "text": [
      "https://www.strava.com/activities//streams?stream_types%5B%5D=timer_time&stream_types%5B%5D=latlng&_=1537842990619 list index out of range\n"
     ]
    },
    {
     "name": "stderr",
     "output_type": "stream",
     "text": [
      "\n",
      " 23%|██████████████████▍                                                              | 75/330 [03:36<10:09,  2.39s/it]\n",
      " 23%|██████████████████▋                                                              | 76/330 [03:38<10:06,  2.39s/it]\n",
      " 23%|██████████████████▉                                                              | 77/330 [03:41<10:03,  2.39s/it]\n",
      " 24%|███████████████████▏                                                             | 78/330 [03:43<10:08,  2.41s/it]\n",
      " 24%|███████████████████▍                                                             | 79/330 [03:46<10:06,  2.42s/it]"
     ]
    },
    {
     "name": "stdout",
     "output_type": "stream",
     "text": [
      "https://www.strava.com/activities//streams?stream_types%5B%5D=timer_time&stream_types%5B%5D=latlng&_=1537842990619 list index out of range\n"
     ]
    },
    {
     "name": "stderr",
     "output_type": "stream",
     "text": [
      "\n",
      " 24%|███████████████████▋                                                             | 80/330 [03:48<09:33,  2.30s/it]\n",
      " 25%|███████████████████▉                                                             | 81/330 [03:50<09:40,  2.33s/it]\n",
      " 25%|████████████████████▏                                                            | 82/330 [03:53<09:40,  2.34s/it]\n",
      " 25%|████████████████████▎                                                            | 83/330 [03:55<09:33,  2.32s/it]\n",
      " 25%|████████████████████▌                                                            | 84/330 [03:57<09:36,  2.34s/it]\n",
      " 26%|████████████████████▊                                                            | 85/330 [04:00<09:34,  2.34s/it]"
     ]
    },
    {
     "name": "stdout",
     "output_type": "stream",
     "text": [
      "https://www.strava.com/activities//streams?stream_types%5B%5D=timer_time&stream_types%5B%5D=latlng&_=1537842990619 list index out of range\n"
     ]
    },
    {
     "name": "stderr",
     "output_type": "stream",
     "text": [
      "\n",
      " 26%|█████████████████████                                                            | 86/330 [04:02<09:07,  2.25s/it]\n",
      " 26%|█████████████████████▎                                                           | 87/330 [04:04<09:14,  2.28s/it]\n",
      " 27%|█████████████████████▌                                                           | 88/330 [04:06<09:21,  2.32s/it]"
     ]
    },
    {
     "name": "stdout",
     "output_type": "stream",
     "text": [
      "https://www.strava.com/activities//streams?stream_types%5B%5D=timer_time&stream_types%5B%5D=latlng&_=1537842990619 list index out of range\n"
     ]
    },
    {
     "name": "stderr",
     "output_type": "stream",
     "text": [
      "\n",
      " 27%|█████████████████████▊                                                           | 89/330 [04:08<08:56,  2.23s/it]\n",
      " 27%|██████████████████████                                                           | 90/330 [04:11<09:17,  2.32s/it]\n",
      " 28%|██████████████████████▎                                                          | 91/330 [04:13<09:14,  2.32s/it]\n",
      " 28%|██████████████████████▌                                                          | 92/330 [04:16<09:13,  2.33s/it]\n",
      " 28%|██████████████████████▊                                                          | 93/330 [04:18<09:25,  2.39s/it]"
     ]
    },
    {
     "name": "stdout",
     "output_type": "stream",
     "text": [
      "https://www.strava.com/activities//streams?stream_types%5B%5D=timer_time&stream_types%5B%5D=latlng&_=1537842990619 list index out of range\n"
     ]
    },
    {
     "name": "stderr",
     "output_type": "stream",
     "text": [
      "\n",
      " 28%|███████████████████████                                                          | 94/330 [04:20<08:56,  2.27s/it]\n",
      " 29%|███████████████████████▎                                                         | 95/330 [04:23<09:06,  2.33s/it]\n",
      " 29%|███████████████████████▌                                                         | 96/330 [04:25<09:07,  2.34s/it]"
     ]
    },
    {
     "name": "stdout",
     "output_type": "stream",
     "text": [
      "https://www.strava.com/activities//streams?stream_types%5B%5D=timer_time&stream_types%5B%5D=latlng&_=1537842990619 list index out of range\n"
     ]
    },
    {
     "name": "stderr",
     "output_type": "stream",
     "text": [
      "\n",
      " 29%|███████████████████████▊                                                         | 97/330 [04:27<08:41,  2.24s/it]\n",
      " 30%|████████████████████████                                                         | 98/330 [04:29<08:59,  2.33s/it]\n",
      " 30%|████████████████████████▎                                                        | 99/330 [04:32<09:08,  2.37s/it]\n",
      " 30%|████████████████████████▏                                                       | 100/330 [04:35<10:16,  2.68s/it]\n",
      " 31%|████████████████████████▍                                                       | 101/330 [04:38<09:40,  2.54s/it]\n",
      " 31%|████████████████████████▋                                                       | 102/330 [04:40<09:23,  2.47s/it]\n",
      " 31%|████████████████████████▉                                                       | 103/330 [04:42<09:04,  2.40s/it]\n",
      " 32%|█████████████████████████▏                                                      | 104/330 [04:44<08:48,  2.34s/it]\n",
      " 32%|█████████████████████████▍                                                      | 105/330 [04:47<08:44,  2.33s/it]\n",
      " 32%|█████████████████████████▋                                                      | 106/330 [04:49<08:41,  2.33s/it]\n",
      " 32%|█████████████████████████▉                                                      | 107/330 [04:51<08:38,  2.33s/it]\n",
      " 33%|██████████████████████████▏                                                     | 108/330 [04:54<08:41,  2.35s/it]\n",
      " 33%|██████████████████████████▍                                                     | 109/330 [04:56<08:34,  2.33s/it]"
     ]
    },
    {
     "name": "stdout",
     "output_type": "stream",
     "text": [
      "https://www.strava.com/activities//streams?stream_types%5B%5D=timer_time&stream_types%5B%5D=latlng&_=1537842990619 list index out of range\n"
     ]
    },
    {
     "name": "stderr",
     "output_type": "stream",
     "text": [
      "\n",
      " 33%|██████████████████████████▋                                                     | 110/330 [04:58<08:11,  2.24s/it]\n",
      " 34%|██████████████████████████▉                                                     | 111/330 [05:00<08:18,  2.27s/it]\n",
      " 34%|███████████████████████████▏                                                    | 112/330 [05:03<08:19,  2.29s/it]\n",
      " 34%|███████████████████████████▍                                                    | 113/330 [05:05<08:30,  2.35s/it]\n",
      " 35%|███████████████████████████▋                                                    | 114/330 [05:07<08:16,  2.30s/it]\n",
      " 35%|███████████████████████████▉                                                    | 115/330 [05:10<08:18,  2.32s/it]\n",
      " 35%|████████████████████████████                                                    | 116/330 [05:12<08:07,  2.28s/it]\n",
      " 35%|████████████████████████████▎                                                   | 117/330 [05:14<08:12,  2.31s/it]\n",
      " 36%|████████████████████████████▌                                                   | 118/330 [05:17<08:28,  2.40s/it]\n",
      " 36%|████████████████████████████▊                                                   | 119/330 [05:19<08:40,  2.47s/it]\n",
      " 36%|█████████████████████████████                                                   | 120/330 [05:23<09:27,  2.70s/it]\n",
      " 37%|█████████████████████████████▎                                                  | 121/330 [05:25<09:12,  2.64s/it]\n",
      " 37%|█████████████████████████████▌                                                  | 122/330 [05:28<08:54,  2.57s/it]\n",
      " 37%|█████████████████████████████▊                                                  | 123/330 [05:30<08:27,  2.45s/it]"
     ]
    },
    {
     "name": "stdout",
     "output_type": "stream",
     "text": [
      "https://www.strava.com/activities//streams?stream_types%5B%5D=timer_time&stream_types%5B%5D=latlng&_=1537842990619 list index out of range\n"
     ]
    },
    {
     "name": "stderr",
     "output_type": "stream",
     "text": [
      "\n",
      " 38%|██████████████████████████████                                                  | 124/330 [05:32<07:57,  2.32s/it]\n",
      " 38%|██████████████████████████████▎                                                 | 125/330 [05:34<08:05,  2.37s/it]\n",
      " 38%|██████████████████████████████▌                                                 | 126/330 [05:37<08:13,  2.42s/it]\n",
      " 38%|██████████████████████████████▊                                                 | 127/330 [05:39<08:24,  2.49s/it]\n",
      " 39%|███████████████████████████████                                                 | 128/330 [05:42<08:10,  2.43s/it]"
     ]
    },
    {
     "name": "stdout",
     "output_type": "stream",
     "text": [
      "https://www.strava.com/activities//streams?stream_types%5B%5D=timer_time&stream_types%5B%5D=latlng&_=1537842990619 list index out of range\n"
     ]
    },
    {
     "name": "stderr",
     "output_type": "stream",
     "text": [
      "\n",
      " 39%|███████████████████████████████▎                                                | 129/330 [05:44<07:43,  2.31s/it]\n",
      " 39%|███████████████████████████████▌                                                | 130/330 [05:46<08:03,  2.42s/it]\n",
      " 40%|███████████████████████████████▊                                                | 131/330 [05:49<08:08,  2.45s/it]"
     ]
    },
    {
     "name": "stdout",
     "output_type": "stream",
     "text": [
      "https://www.strava.com/activities//streams?stream_types%5B%5D=timer_time&stream_types%5B%5D=latlng&_=1537842990619 list index out of range\n"
     ]
    },
    {
     "name": "stderr",
     "output_type": "stream",
     "text": [
      "\n",
      " 40%|████████████████████████████████                                                | 132/330 [05:51<07:39,  2.32s/it]\n",
      " 40%|████████████████████████████████▏                                               | 133/330 [05:54<08:05,  2.46s/it]\n",
      " 41%|████████████████████████████████▍                                               | 134/330 [05:58<09:42,  2.97s/it]"
     ]
    },
    {
     "name": "stdout",
     "output_type": "stream",
     "text": [
      "https://www.strava.com/activities//streams?stream_types%5B%5D=timer_time&stream_types%5B%5D=latlng&_=1537842990619 list index out of range\n"
     ]
    },
    {
     "name": "stderr",
     "output_type": "stream",
     "text": [
      "\n",
      " 41%|████████████████████████████████▋                                               | 135/330 [06:00<08:43,  2.68s/it]\n",
      " 41%|████████████████████████████████▉                                               | 136/330 [06:03<09:19,  2.88s/it]\n",
      " 42%|█████████████████████████████████▏                                              | 137/330 [06:06<09:09,  2.84s/it]"
     ]
    },
    {
     "name": "stdout",
     "output_type": "stream",
     "text": [
      "https://www.strava.com/activities//streams?stream_types%5B%5D=timer_time&stream_types%5B%5D=latlng&_=1537842990619 list index out of range\n"
     ]
    },
    {
     "name": "stderr",
     "output_type": "stream",
     "text": [
      "\n",
      " 42%|█████████████████████████████████▍                                              | 138/330 [06:08<08:18,  2.60s/it]\n",
      " 42%|█████████████████████████████████▋                                              | 139/330 [06:11<08:18,  2.61s/it]\n",
      " 42%|█████████████████████████████████▉                                              | 140/330 [06:13<08:14,  2.60s/it]"
     ]
    },
    {
     "name": "stdout",
     "output_type": "stream",
     "text": [
      "https://www.strava.com/activities//streams?stream_types%5B%5D=timer_time&stream_types%5B%5D=latlng&_=1537842990619 list index out of range\n"
     ]
    },
    {
     "name": "stderr",
     "output_type": "stream",
     "text": [
      "\n",
      " 43%|██████████████████████████████████▏                                             | 141/330 [06:15<07:38,  2.43s/it]\n",
      " 43%|██████████████████████████████████▍                                             | 142/330 [06:18<07:46,  2.48s/it]\n",
      " 43%|██████████████████████████████████▋                                             | 143/330 [06:21<07:47,  2.50s/it]"
     ]
    },
    {
     "name": "stdout",
     "output_type": "stream",
     "text": [
      "https://www.strava.com/activities//streams?stream_types%5B%5D=timer_time&stream_types%5B%5D=latlng&_=1537842990619 list index out of range\n"
     ]
    },
    {
     "name": "stderr",
     "output_type": "stream",
     "text": [
      "\n",
      " 44%|██████████████████████████████████▉                                             | 144/330 [06:23<07:17,  2.35s/it]\n",
      " 44%|███████████████████████████████████▏                                            | 145/330 [06:25<07:42,  2.50s/it]\n",
      " 44%|███████████████████████████████████▍                                            | 146/330 [06:28<07:40,  2.50s/it]"
     ]
    },
    {
     "name": "stdout",
     "output_type": "stream",
     "text": [
      "https://www.strava.com/activities//streams?stream_types%5B%5D=timer_time&stream_types%5B%5D=latlng&_=1537842990619 list index out of range\n"
     ]
    },
    {
     "name": "stderr",
     "output_type": "stream",
     "text": [
      "\n",
      " 45%|███████████████████████████████████▋                                            | 147/330 [06:30<07:10,  2.35s/it]\n",
      " 45%|███████████████████████████████████▉                                            | 148/330 [06:33<07:28,  2.46s/it]\n",
      " 45%|████████████████████████████████████                                            | 149/330 [06:35<07:44,  2.56s/it]"
     ]
    },
    {
     "name": "stdout",
     "output_type": "stream",
     "text": [
      "https://www.strava.com/activities//streams?stream_types%5B%5D=timer_time&stream_types%5B%5D=latlng&_=1537842990619 list index out of range\n"
     ]
    },
    {
     "name": "stderr",
     "output_type": "stream",
     "text": [
      "\n",
      " 45%|████████████████████████████████████▎                                           | 150/330 [06:37<07:11,  2.40s/it]\n",
      " 46%|████████████████████████████████████▌                                           | 151/330 [06:40<07:23,  2.48s/it]\n",
      " 46%|████████████████████████████████████▊                                           | 152/330 [06:43<07:31,  2.53s/it]"
     ]
    },
    {
     "name": "stdout",
     "output_type": "stream",
     "text": [
      "https://www.strava.com/activities//streams?stream_types%5B%5D=timer_time&stream_types%5B%5D=latlng&_=1537842990619 list index out of range\n"
     ]
    },
    {
     "name": "stderr",
     "output_type": "stream",
     "text": [
      "\n",
      " 46%|█████████████████████████████████████                                           | 153/330 [06:45<07:00,  2.38s/it]\n",
      " 47%|█████████████████████████████████████▎                                          | 154/330 [06:47<07:11,  2.45s/it]\n",
      " 47%|█████████████████████████████████████▌                                          | 155/330 [06:50<07:19,  2.51s/it]"
     ]
    },
    {
     "name": "stdout",
     "output_type": "stream",
     "text": [
      "https://www.strava.com/activities//streams?stream_types%5B%5D=timer_time&stream_types%5B%5D=latlng&_=1537842990619 list index out of range\n"
     ]
    },
    {
     "name": "stderr",
     "output_type": "stream",
     "text": [
      "\n",
      " 47%|█████████████████████████████████████▊                                          | 156/330 [06:52<06:51,  2.36s/it]\n",
      " 48%|██████████████████████████████████████                                          | 157/330 [06:55<07:00,  2.43s/it]\n",
      " 48%|██████████████████████████████████████▎                                         | 158/330 [06:57<07:00,  2.45s/it]"
     ]
    },
    {
     "name": "stdout",
     "output_type": "stream",
     "text": [
      "https://www.strava.com/activities//streams?stream_types%5B%5D=timer_time&stream_types%5B%5D=latlng&_=1537842990619 list index out of range\n"
     ]
    },
    {
     "name": "stderr",
     "output_type": "stream",
     "text": [
      "\n",
      " 48%|██████████████████████████████████████▌                                         | 159/330 [06:59<06:36,  2.32s/it]\n",
      " 48%|██████████████████████████████████████▊                                         | 160/330 [07:02<06:57,  2.46s/it]\n",
      " 49%|███████████████████████████████████████                                         | 161/330 [07:05<07:06,  2.52s/it]"
     ]
    },
    {
     "name": "stdout",
     "output_type": "stream",
     "text": [
      "https://www.strava.com/activities//streams?stream_types%5B%5D=timer_time&stream_types%5B%5D=latlng&_=1537842990619 list index out of range\n"
     ]
    },
    {
     "name": "stderr",
     "output_type": "stream",
     "text": [
      "\n",
      " 49%|███████████████████████████████████████▎                                        | 162/330 [07:07<06:37,  2.37s/it]\n",
      " 49%|███████████████████████████████████████▌                                        | 163/330 [07:09<06:50,  2.46s/it]\n",
      " 50%|███████████████████████████████████████▊                                        | 164/330 [07:12<06:53,  2.49s/it]"
     ]
    },
    {
     "name": "stdout",
     "output_type": "stream",
     "text": [
      "https://www.strava.com/activities//streams?stream_types%5B%5D=timer_time&stream_types%5B%5D=latlng&_=1537842990619 list index out of range\n"
     ]
    },
    {
     "name": "stderr",
     "output_type": "stream",
     "text": [
      "\n",
      " 50%|████████████████████████████████████████                                        | 165/330 [07:14<06:27,  2.35s/it]\n",
      " 50%|████████████████████████████████████████▏                                       | 166/330 [07:16<06:36,  2.42s/it]\n",
      " 51%|████████████████████████████████████████▍                                       | 167/330 [07:19<06:43,  2.48s/it]"
     ]
    },
    {
     "name": "stdout",
     "output_type": "stream",
     "text": [
      "https://www.strava.com/activities//streams?stream_types%5B%5D=timer_time&stream_types%5B%5D=latlng&_=1537842990619 list index out of range\n"
     ]
    },
    {
     "name": "stderr",
     "output_type": "stream",
     "text": [
      "\n",
      " 51%|████████████████████████████████████████▋                                       | 168/330 [07:21<06:18,  2.34s/it]\n",
      " 51%|████████████████████████████████████████▉                                       | 169/330 [07:24<06:29,  2.42s/it]\n",
      " 52%|█████████████████████████████████████████▏                                      | 170/330 [07:26<06:37,  2.48s/it]"
     ]
    },
    {
     "name": "stdout",
     "output_type": "stream",
     "text": [
      "https://www.strava.com/activities//streams?stream_types%5B%5D=timer_time&stream_types%5B%5D=latlng&_=1537842990619 list index out of range\n"
     ]
    },
    {
     "name": "stderr",
     "output_type": "stream",
     "text": [
      "\n",
      " 52%|█████████████████████████████████████████▍                                      | 171/330 [07:28<06:12,  2.34s/it]\n",
      " 52%|█████████████████████████████████████████▋                                      | 172/330 [07:31<06:22,  2.42s/it]\n",
      " 52%|█████████████████████████████████████████▉                                      | 173/330 [07:34<06:30,  2.49s/it]"
     ]
    },
    {
     "name": "stdout",
     "output_type": "stream",
     "text": [
      "https://www.strava.com/activities//streams?stream_types%5B%5D=timer_time&stream_types%5B%5D=latlng&_=1537842990619 list index out of range\n"
     ]
    },
    {
     "name": "stderr",
     "output_type": "stream",
     "text": [
      "\n",
      " 53%|██████████████████████████████████████████▏                                     | 174/330 [07:36<06:05,  2.34s/it]\n",
      " 53%|██████████████████████████████████████████▍                                     | 175/330 [07:38<06:19,  2.45s/it]\n",
      " 53%|██████████████████████████████████████████▋                                     | 176/330 [07:41<06:29,  2.53s/it]"
     ]
    },
    {
     "name": "stdout",
     "output_type": "stream",
     "text": [
      "https://www.strava.com/activities//streams?stream_types%5B%5D=timer_time&stream_types%5B%5D=latlng&_=1537842990619 list index out of range\n"
     ]
    },
    {
     "name": "stderr",
     "output_type": "stream",
     "text": [
      "\n",
      " 54%|██████████████████████████████████████████▉                                     | 177/330 [07:43<06:02,  2.37s/it]\n",
      " 54%|███████████████████████████████████████████▏                                    | 178/330 [07:46<06:15,  2.47s/it]\n",
      " 54%|███████████████████████████████████████████▍                                    | 179/330 [07:48<06:18,  2.51s/it]"
     ]
    },
    {
     "name": "stdout",
     "output_type": "stream",
     "text": [
      "https://www.strava.com/activities//streams?stream_types%5B%5D=timer_time&stream_types%5B%5D=latlng&_=1537842990619 list index out of range\n"
     ]
    },
    {
     "name": "stderr",
     "output_type": "stream",
     "text": [
      "\n",
      " 55%|███████████████████████████████████████████▋                                    | 180/330 [07:50<05:53,  2.36s/it]\n",
      " 55%|███████████████████████████████████████████▉                                    | 181/330 [07:53<06:00,  2.42s/it]\n",
      " 55%|████████████████████████████████████████████                                    | 182/330 [07:55<06:04,  2.46s/it]"
     ]
    },
    {
     "name": "stdout",
     "output_type": "stream",
     "text": [
      "https://www.strava.com/activities//streams?stream_types%5B%5D=timer_time&stream_types%5B%5D=latlng&_=1537842990619 list index out of range\n"
     ]
    },
    {
     "name": "stderr",
     "output_type": "stream",
     "text": [
      "\n",
      " 55%|████████████████████████████████████████████▎                                   | 183/330 [07:57<05:41,  2.33s/it]\n",
      " 56%|████████████████████████████████████████████▌                                   | 184/330 [08:00<05:51,  2.41s/it]\n",
      " 56%|████████████████████████████████████████████▊                                   | 185/330 [08:03<06:15,  2.59s/it]"
     ]
    },
    {
     "name": "stdout",
     "output_type": "stream",
     "text": [
      "https://www.strava.com/activities//streams?stream_types%5B%5D=timer_time&stream_types%5B%5D=latlng&_=1537842990619 list index out of range\n"
     ]
    },
    {
     "name": "stderr",
     "output_type": "stream",
     "text": [
      "\n",
      " 56%|█████████████████████████████████████████████                                   | 186/330 [08:05<05:48,  2.42s/it]\n",
      " 57%|█████████████████████████████████████████████▎                                  | 187/330 [08:08<05:56,  2.49s/it]\n",
      " 57%|█████████████████████████████████████████████▌                                  | 188/330 [08:10<05:54,  2.50s/it]"
     ]
    },
    {
     "name": "stdout",
     "output_type": "stream",
     "text": [
      "https://www.strava.com/activities//streams?stream_types%5B%5D=timer_time&stream_types%5B%5D=latlng&_=1537842990619 list index out of range\n"
     ]
    },
    {
     "name": "stderr",
     "output_type": "stream",
     "text": [
      "\n",
      " 57%|█████████████████████████████████████████████▊                                  | 189/330 [08:12<05:31,  2.35s/it]\n",
      " 58%|██████████████████████████████████████████████                                  | 190/330 [08:15<05:42,  2.45s/it]\n",
      " 58%|██████████████████████████████████████████████▎                                 | 191/330 [08:17<05:42,  2.46s/it]"
     ]
    },
    {
     "name": "stdout",
     "output_type": "stream",
     "text": [
      "https://www.strava.com/activities//streams?stream_types%5B%5D=timer_time&stream_types%5B%5D=latlng&_=1537842990619 list index out of range\n"
     ]
    },
    {
     "name": "stderr",
     "output_type": "stream",
     "text": [
      "\n",
      " 58%|██████████████████████████████████████████████▌                                 | 192/330 [08:19<05:20,  2.32s/it]\n",
      " 58%|██████████████████████████████████████████████▊                                 | 193/330 [08:22<05:31,  2.42s/it]\n",
      " 59%|███████████████████████████████████████████████                                 | 194/330 [08:24<05:30,  2.43s/it]"
     ]
    },
    {
     "name": "stdout",
     "output_type": "stream",
     "text": [
      "https://www.strava.com/activities//streams?stream_types%5B%5D=timer_time&stream_types%5B%5D=latlng&_=1537842990619 list index out of range\n"
     ]
    },
    {
     "name": "stderr",
     "output_type": "stream",
     "text": [
      "\n",
      " 59%|███████████████████████████████████████████████▎                                | 195/330 [08:26<05:11,  2.31s/it]\n",
      " 59%|███████████████████████████████████████████████▌                                | 196/330 [08:29<05:26,  2.43s/it]\n",
      " 60%|███████████████████████████████████████████████▊                                | 197/330 [08:32<05:30,  2.48s/it]"
     ]
    },
    {
     "name": "stdout",
     "output_type": "stream",
     "text": [
      "https://www.strava.com/activities//streams?stream_types%5B%5D=timer_time&stream_types%5B%5D=latlng&_=1537842990619 list index out of range\n"
     ]
    },
    {
     "name": "stderr",
     "output_type": "stream",
     "text": [
      "\n",
      " 60%|████████████████████████████████████████████████                                | 198/330 [08:34<05:09,  2.34s/it]\n",
      " 60%|████████████████████████████████████████████████▏                               | 199/330 [08:36<05:16,  2.41s/it]\n",
      " 61%|████████████████████████████████████████████████▍                               | 200/330 [08:39<05:23,  2.49s/it]"
     ]
    },
    {
     "name": "stdout",
     "output_type": "stream",
     "text": [
      "https://www.strava.com/activities//streams?stream_types%5B%5D=timer_time&stream_types%5B%5D=latlng&_=1537842990619 list index out of range\n"
     ]
    },
    {
     "name": "stderr",
     "output_type": "stream",
     "text": [
      "\n",
      " 61%|████████████████████████████████████████████████▋                               | 201/330 [08:41<05:02,  2.34s/it]\n",
      " 61%|████████████████████████████████████████████████▉                               | 202/330 [08:44<05:10,  2.42s/it]\n",
      " 62%|█████████████████████████████████████████████████▏                              | 203/330 [08:46<05:17,  2.50s/it]"
     ]
    },
    {
     "name": "stdout",
     "output_type": "stream",
     "text": [
      "https://www.strava.com/activities//streams?stream_types%5B%5D=timer_time&stream_types%5B%5D=latlng&_=1537842990619 list index out of range\n"
     ]
    },
    {
     "name": "stderr",
     "output_type": "stream",
     "text": [
      "\n",
      " 62%|█████████████████████████████████████████████████▍                              | 204/330 [08:48<04:56,  2.35s/it]\n",
      " 62%|█████████████████████████████████████████████████▋                              | 205/330 [08:51<05:05,  2.45s/it]\n",
      " 62%|█████████████████████████████████████████████████▉                              | 206/330 [08:54<05:05,  2.46s/it]"
     ]
    },
    {
     "name": "stdout",
     "output_type": "stream",
     "text": [
      "https://www.strava.com/activities//streams?stream_types%5B%5D=timer_time&stream_types%5B%5D=latlng&_=1537842990619 list index out of range\n"
     ]
    },
    {
     "name": "stderr",
     "output_type": "stream",
     "text": [
      "\n",
      " 63%|██████████████████████████████████████████████████▏                             | 207/330 [08:56<04:46,  2.33s/it]\n",
      " 63%|██████████████████████████████████████████████████▍                             | 208/330 [08:58<05:01,  2.47s/it]\n",
      " 63%|██████████████████████████████████████████████████▋                             | 209/330 [09:01<05:00,  2.48s/it]"
     ]
    },
    {
     "name": "stdout",
     "output_type": "stream",
     "text": [
      "https://www.strava.com/activities//streams?stream_types%5B%5D=timer_time&stream_types%5B%5D=latlng&_=1537842990619 list index out of range\n"
     ]
    },
    {
     "name": "stderr",
     "output_type": "stream",
     "text": [
      "\n",
      " 64%|██████████████████████████████████████████████████▉                             | 210/330 [09:03<04:40,  2.34s/it]\n",
      " 64%|███████████████████████████████████████████████████▏                            | 211/330 [09:06<04:54,  2.47s/it]\n",
      " 64%|███████████████████████████████████████████████████▍                            | 212/330 [09:08<04:56,  2.51s/it]"
     ]
    },
    {
     "name": "stdout",
     "output_type": "stream",
     "text": [
      "https://www.strava.com/activities//streams?stream_types%5B%5D=timer_time&stream_types%5B%5D=latlng&_=1537842990619 list index out of range\n"
     ]
    },
    {
     "name": "stderr",
     "output_type": "stream",
     "text": [
      "\n",
      " 65%|███████████████████████████████████████████████████▋                            | 213/330 [09:10<04:36,  2.36s/it]\n",
      " 65%|███████████████████████████████████████████████████▉                            | 214/330 [09:13<04:46,  2.47s/it]\n",
      " 65%|████████████████████████████████████████████████████                            | 215/330 [09:16<04:47,  2.50s/it]"
     ]
    },
    {
     "name": "stdout",
     "output_type": "stream",
     "text": [
      "https://www.strava.com/activities//streams?stream_types%5B%5D=timer_time&stream_types%5B%5D=latlng&_=1537842990619 list index out of range\n"
     ]
    },
    {
     "name": "stderr",
     "output_type": "stream",
     "text": [
      "\n",
      " 65%|████████████████████████████████████████████████████▎                           | 216/330 [09:18<04:28,  2.36s/it]\n",
      " 66%|████████████████████████████████████████████████████▌                           | 217/330 [09:20<04:37,  2.45s/it]\n",
      " 66%|████████████████████████████████████████████████████▊                           | 218/330 [09:23<04:37,  2.47s/it]"
     ]
    },
    {
     "name": "stdout",
     "output_type": "stream",
     "text": [
      "https://www.strava.com/activities//streams?stream_types%5B%5D=timer_time&stream_types%5B%5D=latlng&_=1537842990619 list index out of range\n"
     ]
    },
    {
     "name": "stderr",
     "output_type": "stream",
     "text": [
      "\n",
      " 66%|█████████████████████████████████████████████████████                           | 219/330 [09:25<04:19,  2.34s/it]\n",
      " 67%|█████████████████████████████████████████████████████▎                          | 220/330 [09:27<04:25,  2.41s/it]\n",
      " 67%|█████████████████████████████████████████████████████▌                          | 221/330 [09:30<04:25,  2.44s/it]"
     ]
    },
    {
     "name": "stdout",
     "output_type": "stream",
     "text": [
      "https://www.strava.com/activities//streams?stream_types%5B%5D=timer_time&stream_types%5B%5D=latlng&_=1537842990619 list index out of range\n"
     ]
    },
    {
     "name": "stderr",
     "output_type": "stream",
     "text": [
      "\n",
      " 67%|█████████████████████████████████████████████████████▊                          | 222/330 [09:32<04:09,  2.31s/it]\n",
      " 68%|██████████████████████████████████████████████████████                          | 223/330 [09:35<04:18,  2.42s/it]\n",
      " 68%|██████████████████████████████████████████████████████▎                         | 224/330 [09:37<04:18,  2.44s/it]"
     ]
    },
    {
     "name": "stdout",
     "output_type": "stream",
     "text": [
      "https://www.strava.com/activities//streams?stream_types%5B%5D=timer_time&stream_types%5B%5D=latlng&_=1537842990619 list index out of range\n"
     ]
    },
    {
     "name": "stderr",
     "output_type": "stream",
     "text": [
      "\n",
      " 68%|██████████████████████████████████████████████████████▌                         | 225/330 [09:39<04:02,  2.31s/it]\n",
      " 68%|██████████████████████████████████████████████████████▊                         | 226/330 [09:42<04:09,  2.40s/it]\n",
      " 69%|███████████████████████████████████████████████████████                         | 227/330 [09:44<04:08,  2.42s/it]"
     ]
    },
    {
     "name": "stdout",
     "output_type": "stream",
     "text": [
      "https://www.strava.com/activities//streams?stream_types%5B%5D=timer_time&stream_types%5B%5D=latlng&_=1537842990619 list index out of range\n"
     ]
    },
    {
     "name": "stderr",
     "output_type": "stream",
     "text": [
      "\n",
      " 69%|███████████████████████████████████████████████████████▎                        | 228/330 [09:46<03:54,  2.30s/it]\n",
      " 69%|███████████████████████████████████████████████████████▌                        | 229/330 [09:49<04:02,  2.40s/it]\n",
      " 70%|███████████████████████████████████████████████████████▊                        | 230/330 [09:51<04:05,  2.46s/it]"
     ]
    },
    {
     "name": "stdout",
     "output_type": "stream",
     "text": [
      "https://www.strava.com/activities//streams?stream_types%5B%5D=timer_time&stream_types%5B%5D=latlng&_=1537842990619 list index out of range\n"
     ]
    },
    {
     "name": "stderr",
     "output_type": "stream",
     "text": [
      "\n",
      " 70%|████████████████████████████████████████████████████████                        | 231/330 [09:53<03:49,  2.32s/it]\n",
      " 70%|████████████████████████████████████████████████████████▏                       | 232/330 [09:56<03:57,  2.42s/it]\n",
      " 71%|████████████████████████████████████████████████████████▍                       | 233/330 [09:59<04:00,  2.48s/it]"
     ]
    },
    {
     "name": "stdout",
     "output_type": "stream",
     "text": [
      "https://www.strava.com/activities//streams?stream_types%5B%5D=timer_time&stream_types%5B%5D=latlng&_=1537842990619 list index out of range\n"
     ]
    },
    {
     "name": "stderr",
     "output_type": "stream",
     "text": [
      "\n",
      " 71%|████████████████████████████████████████████████████████▋                       | 234/330 [10:01<03:44,  2.34s/it]\n",
      " 71%|████████████████████████████████████████████████████████▉                       | 235/330 [10:03<03:49,  2.42s/it]\n",
      " 72%|█████████████████████████████████████████████████████████▏                      | 236/330 [10:06<03:48,  2.43s/it]\n",
      " 72%|█████████████████████████████████████████████████████████▍                      | 237/330 [10:08<03:50,  2.48s/it]"
     ]
    },
    {
     "name": "stdout",
     "output_type": "stream",
     "text": [
      "https://www.strava.com/activities//streams?stream_types%5B%5D=timer_time&stream_types%5B%5D=latlng&_=1537842990619 list index out of range\n"
     ]
    },
    {
     "name": "stderr",
     "output_type": "stream",
     "text": [
      "\n",
      " 72%|█████████████████████████████████████████████████████████▋                      | 238/330 [10:10<03:35,  2.34s/it]\n",
      " 72%|█████████████████████████████████████████████████████████▉                      | 239/330 [10:13<03:37,  2.39s/it]\n",
      " 73%|██████████████████████████████████████████████████████████▏                     | 240/330 [10:15<03:37,  2.42s/it]\n",
      " 73%|██████████████████████████████████████████████████████████▍                     | 241/330 [10:18<03:39,  2.47s/it]"
     ]
    },
    {
     "name": "stdout",
     "output_type": "stream",
     "text": [
      "https://www.strava.com/activities//streams?stream_types%5B%5D=timer_time&stream_types%5B%5D=latlng&_=1537842990619 list index out of range\n"
     ]
    },
    {
     "name": "stderr",
     "output_type": "stream",
     "text": [
      "\n",
      " 73%|██████████████████████████████████████████████████████████▋                     | 242/330 [10:20<03:25,  2.33s/it]\n",
      " 74%|██████████████████████████████████████████████████████████▉                     | 243/330 [10:23<03:29,  2.41s/it]\n",
      " 74%|███████████████████████████████████████████████████████████▏                    | 244/330 [10:25<03:27,  2.42s/it]\n",
      " 74%|███████████████████████████████████████████████████████████▍                    | 245/330 [10:27<03:25,  2.41s/it]\n",
      " 75%|███████████████████████████████████████████████████████████▋                    | 246/330 [10:30<03:18,  2.37s/it]"
     ]
    },
    {
     "name": "stdout",
     "output_type": "stream",
     "text": [
      "https://www.strava.com/activities//streams?stream_types%5B%5D=timer_time&stream_types%5B%5D=latlng&_=1537842990619 list index out of range\n"
     ]
    },
    {
     "name": "stderr",
     "output_type": "stream",
     "text": [
      "\n",
      " 75%|███████████████████████████████████████████████████████████▉                    | 247/330 [10:32<03:07,  2.26s/it]\n",
      " 75%|████████████████████████████████████████████████████████████                    | 248/330 [10:34<03:12,  2.35s/it]\n",
      " 75%|████████████████████████████████████████████████████████████▎                   | 249/330 [10:37<03:17,  2.44s/it]\n",
      " 76%|████████████████████████████████████████████████████████████▌                   | 250/330 [10:39<03:12,  2.41s/it]"
     ]
    },
    {
     "name": "stdout",
     "output_type": "stream",
     "text": [
      "https://www.strava.com/activities//streams?stream_types%5B%5D=timer_time&stream_types%5B%5D=latlng&_=1537842990619 list index out of range\n"
     ]
    },
    {
     "name": "stderr",
     "output_type": "stream",
     "text": [
      "\n",
      " 76%|████████████████████████████████████████████████████████████▊                   | 251/330 [10:41<03:00,  2.29s/it]\n",
      " 76%|█████████████████████████████████████████████████████████████                   | 252/330 [10:44<03:06,  2.39s/it]\n",
      " 77%|█████████████████████████████████████████████████████████████▎                  | 253/330 [10:46<03:09,  2.46s/it]"
     ]
    },
    {
     "name": "stdout",
     "output_type": "stream",
     "text": [
      "https://www.strava.com/activities//streams?stream_types%5B%5D=timer_time&stream_types%5B%5D=latlng&_=1537842990619 list index out of range\n"
     ]
    },
    {
     "name": "stderr",
     "output_type": "stream",
     "text": [
      "\n",
      " 77%|█████████████████████████████████████████████████████████████▌                  | 254/330 [10:48<02:56,  2.33s/it]\n",
      " 77%|█████████████████████████████████████████████████████████████▊                  | 255/330 [10:51<02:58,  2.38s/it]\n",
      " 78%|██████████████████████████████████████████████████████████████                  | 256/330 [10:54<03:01,  2.46s/it]\n",
      " 78%|██████████████████████████████████████████████████████████████▎                 | 257/330 [10:56<02:58,  2.44s/it]"
     ]
    },
    {
     "name": "stdout",
     "output_type": "stream",
     "text": [
      "https://www.strava.com/activities//streams?stream_types%5B%5D=timer_time&stream_types%5B%5D=latlng&_=1537842990619 list index out of range\n"
     ]
    },
    {
     "name": "stderr",
     "output_type": "stream",
     "text": [
      "\n",
      " 78%|██████████████████████████████████████████████████████████████▌                 | 258/330 [10:58<02:46,  2.31s/it]\n",
      " 78%|██████████████████████████████████████████████████████████████▊                 | 259/330 [11:00<02:44,  2.32s/it]\n",
      " 79%|███████████████████████████████████████████████████████████████                 | 260/330 [11:03<02:46,  2.38s/it]"
     ]
    },
    {
     "name": "stdout",
     "output_type": "stream",
     "text": [
      "https://www.strava.com/activities//streams?stream_types%5B%5D=timer_time&stream_types%5B%5D=latlng&_=1537842990619 list index out of range\n"
     ]
    },
    {
     "name": "stderr",
     "output_type": "stream",
     "text": [
      "\n",
      " 79%|███████████████████████████████████████████████████████████████▎                | 261/330 [11:05<02:36,  2.27s/it]\n",
      " 79%|███████████████████████████████████████████████████████████████▌                | 262/330 [11:07<02:36,  2.29s/it]\n",
      " 80%|███████████████████████████████████████████████████████████████▊                | 263/330 [11:10<02:34,  2.30s/it]"
     ]
    },
    {
     "name": "stdout",
     "output_type": "stream",
     "text": [
      "https://www.strava.com/activities//streams?stream_types%5B%5D=timer_time&stream_types%5B%5D=latlng&_=1537842990619 list index out of range\n"
     ]
    },
    {
     "name": "stderr",
     "output_type": "stream",
     "text": [
      "\n",
      " 80%|████████████████████████████████████████████████████████████████                | 264/330 [11:12<02:26,  2.22s/it]\n",
      " 80%|████████████████████████████████████████████████████████████████▏               | 265/330 [11:14<02:25,  2.23s/it]\n",
      " 81%|████████████████████████████████████████████████████████████████▍               | 266/330 [11:16<02:26,  2.28s/it]"
     ]
    },
    {
     "name": "stdout",
     "output_type": "stream",
     "text": [
      "https://www.strava.com/activities//streams?stream_types%5B%5D=timer_time&stream_types%5B%5D=latlng&_=1537842990619 list index out of range\n"
     ]
    },
    {
     "name": "stderr",
     "output_type": "stream",
     "text": [
      "\n",
      " 81%|████████████████████████████████████████████████████████████████▋               | 267/330 [11:18<02:18,  2.20s/it]\n",
      " 81%|████████████████████████████████████████████████████████████████▉               | 268/330 [11:21<02:17,  2.22s/it]\n",
      " 82%|█████████████████████████████████████████████████████████████████▏              | 269/330 [11:23<02:18,  2.28s/it]"
     ]
    },
    {
     "name": "stdout",
     "output_type": "stream",
     "text": [
      "https://www.strava.com/activities//streams?stream_types%5B%5D=timer_time&stream_types%5B%5D=latlng&_=1537842990619 list index out of range\n"
     ]
    },
    {
     "name": "stderr",
     "output_type": "stream",
     "text": [
      "\n",
      " 82%|█████████████████████████████████████████████████████████████████▍              | 270/330 [11:25<02:11,  2.20s/it]\n",
      " 82%|█████████████████████████████████████████████████████████████████▋              | 271/330 [11:27<02:12,  2.24s/it]\n",
      " 82%|█████████████████████████████████████████████████████████████████▉              | 272/330 [11:30<02:10,  2.25s/it]\n",
      " 83%|██████████████████████████████████████████████████████████████████▏             | 273/330 [11:32<02:09,  2.27s/it]"
     ]
    },
    {
     "name": "stdout",
     "output_type": "stream",
     "text": [
      "https://www.strava.com/activities//streams?stream_types%5B%5D=timer_time&stream_types%5B%5D=latlng&_=1537842990619 list index out of range\n"
     ]
    },
    {
     "name": "stderr",
     "output_type": "stream",
     "text": [
      "\n",
      " 83%|██████████████████████████████████████████████████████████████████▍             | 274/330 [11:34<02:03,  2.20s/it]\n",
      " 83%|██████████████████████████████████████████████████████████████████▋             | 275/330 [11:36<02:05,  2.28s/it]\n",
      " 84%|██████████████████████████████████████████████████████████████████▉             | 276/330 [11:39<02:07,  2.37s/it]"
     ]
    },
    {
     "name": "stdout",
     "output_type": "stream",
     "text": [
      "https://www.strava.com/activities//streams?stream_types%5B%5D=timer_time&stream_types%5B%5D=latlng&_=1537842990619 list index out of range\n"
     ]
    },
    {
     "name": "stderr",
     "output_type": "stream",
     "text": [
      "\n",
      " 84%|███████████████████████████████████████████████████████████████████▏            | 277/330 [11:41<01:59,  2.26s/it]\n",
      " 84%|███████████████████████████████████████████████████████████████████▍            | 278/330 [11:43<01:57,  2.27s/it]\n",
      " 85%|███████████████████████████████████████████████████████████████████▋            | 279/330 [11:46<01:58,  2.32s/it]"
     ]
    },
    {
     "name": "stdout",
     "output_type": "stream",
     "text": [
      "https://www.strava.com/activities//streams?stream_types%5B%5D=timer_time&stream_types%5B%5D=latlng&_=1537842990619 list index out of range\n"
     ]
    },
    {
     "name": "stderr",
     "output_type": "stream",
     "text": [
      "\n",
      " 85%|███████████████████████████████████████████████████████████████████▉            | 280/330 [11:48<01:51,  2.24s/it]\n",
      " 85%|████████████████████████████████████████████████████████████████████            | 281/330 [11:50<01:51,  2.28s/it]\n",
      " 85%|████████████████████████████████████████████████████████████████████▎           | 282/330 [11:53<01:53,  2.36s/it]"
     ]
    },
    {
     "name": "stdout",
     "output_type": "stream",
     "text": [
      "https://www.strava.com/activities//streams?stream_types%5B%5D=timer_time&stream_types%5B%5D=latlng&_=1537842990619 list index out of range\n"
     ]
    },
    {
     "name": "stderr",
     "output_type": "stream",
     "text": [
      "\n",
      " 86%|████████████████████████████████████████████████████████████████████▌           | 283/330 [11:55<01:45,  2.25s/it]\n",
      " 86%|████████████████████████████████████████████████████████████████████▊           | 284/330 [11:57<01:46,  2.33s/it]\n",
      " 86%|█████████████████████████████████████████████████████████████████████           | 285/330 [12:00<01:50,  2.45s/it]\n",
      " 87%|█████████████████████████████████████████████████████████████████████▎          | 286/330 [12:02<01:48,  2.47s/it]\n",
      " 87%|█████████████████████████████████████████████████████████████████████▌          | 287/330 [12:05<01:44,  2.43s/it]\n",
      " 87%|█████████████████████████████████████████████████████████████████████▊          | 288/330 [12:07<01:42,  2.44s/it]"
     ]
    },
    {
     "name": "stdout",
     "output_type": "stream",
     "text": [
      "https://www.strava.com/activities//streams?stream_types%5B%5D=timer_time&stream_types%5B%5D=latlng&_=1537842990619 list index out of range\n"
     ]
    },
    {
     "name": "stderr",
     "output_type": "stream",
     "text": [
      "\n",
      " 88%|██████████████████████████████████████████████████████████████████████          | 289/330 [12:09<01:34,  2.31s/it]\n",
      " 88%|██████████████████████████████████████████████████████████████████████▎         | 290/330 [12:12<01:41,  2.53s/it]\n",
      " 88%|██████████████████████████████████████████████████████████████████████▌         | 291/330 [12:15<01:37,  2.50s/it]"
     ]
    },
    {
     "name": "stdout",
     "output_type": "stream",
     "text": [
      "https://www.strava.com/activities//streams?stream_types%5B%5D=timer_time&stream_types%5B%5D=latlng&_=1537842990619 list index out of range\n"
     ]
    },
    {
     "name": "stderr",
     "output_type": "stream",
     "text": [
      "\n",
      " 88%|██████████████████████████████████████████████████████████████████████▊         | 292/330 [12:17<01:29,  2.35s/it]\n",
      " 89%|███████████████████████████████████████████████████████████████████████         | 293/330 [12:19<01:26,  2.35s/it]\n",
      " 89%|███████████████████████████████████████████████████████████████████████▎        | 294/330 [12:21<01:25,  2.37s/it]"
     ]
    },
    {
     "name": "stdout",
     "output_type": "stream",
     "text": [
      "https://www.strava.com/activities//streams?stream_types%5B%5D=timer_time&stream_types%5B%5D=latlng&_=1537842990619 list index out of range\n"
     ]
    },
    {
     "name": "stderr",
     "output_type": "stream",
     "text": [
      "\n",
      " 89%|███████████████████████████████████████████████████████████████████████▌        | 295/330 [12:23<01:19,  2.26s/it]\n",
      " 90%|███████████████████████████████████████████████████████████████████████▊        | 296/330 [12:26<01:18,  2.31s/it]\n",
      " 90%|████████████████████████████████████████████████████████████████████████        | 297/330 [12:28<01:17,  2.35s/it]"
     ]
    },
    {
     "name": "stdout",
     "output_type": "stream",
     "text": [
      "https://www.strava.com/activities//streams?stream_types%5B%5D=timer_time&stream_types%5B%5D=latlng&_=1537842990619 list index out of range\n"
     ]
    },
    {
     "name": "stderr",
     "output_type": "stream",
     "text": [
      "\n",
      " 90%|████████████████████████████████████████████████████████████████████████▏       | 298/330 [12:30<01:11,  2.25s/it]\n",
      " 91%|████████████████████████████████████████████████████████████████████████▍       | 299/330 [12:33<01:10,  2.27s/it]\n",
      " 91%|████████████████████████████████████████████████████████████████████████▋       | 300/330 [12:35<01:08,  2.28s/it]"
     ]
    },
    {
     "name": "stdout",
     "output_type": "stream",
     "text": [
      "https://www.strava.com/activities//streams?stream_types%5B%5D=timer_time&stream_types%5B%5D=latlng&_=1537842990619 list index out of range\n"
     ]
    },
    {
     "name": "stderr",
     "output_type": "stream",
     "text": [
      "\n",
      " 91%|████████████████████████████████████████████████████████████████████████▉       | 301/330 [12:37<01:03,  2.20s/it]\n",
      " 92%|█████████████████████████████████████████████████████████████████████████▏      | 302/330 [12:39<01:03,  2.25s/it]\n",
      " 92%|█████████████████████████████████████████████████████████████████████████▍      | 303/330 [12:42<01:01,  2.28s/it]\n",
      " 92%|█████████████████████████████████████████████████████████████████████████▋      | 304/330 [12:44<00:59,  2.31s/it]\n",
      " 92%|█████████████████████████████████████████████████████████████████████████▉      | 305/330 [12:46<00:58,  2.33s/it]"
     ]
    },
    {
     "name": "stdout",
     "output_type": "stream",
     "text": [
      "https://www.strava.com/activities//streams?stream_types%5B%5D=timer_time&stream_types%5B%5D=latlng&_=1537842990619 list index out of range\n"
     ]
    },
    {
     "name": "stderr",
     "output_type": "stream",
     "text": [
      "\n",
      " 93%|██████████████████████████████████████████████████████████████████████████▏     | 306/330 [12:48<00:53,  2.24s/it]\n",
      " 93%|██████████████████████████████████████████████████████████████████████████▍     | 307/330 [12:51<00:51,  2.25s/it]\n",
      " 93%|██████████████████████████████████████████████████████████████████████████▋     | 308/330 [12:53<00:50,  2.30s/it]"
     ]
    },
    {
     "name": "stdout",
     "output_type": "stream",
     "text": [
      "https://www.strava.com/activities//streams?stream_types%5B%5D=timer_time&stream_types%5B%5D=latlng&_=1537842990619 list index out of range\n"
     ]
    },
    {
     "name": "stderr",
     "output_type": "stream",
     "text": [
      "\n",
      " 94%|██████████████████████████████████████████████████████████████████████████▉     | 309/330 [12:55<00:46,  2.21s/it]\n",
      " 94%|███████████████████████████████████████████████████████████████████████████▏    | 310/330 [12:57<00:44,  2.25s/it]\n",
      " 94%|███████████████████████████████████████████████████████████████████████████▍    | 311/330 [13:00<00:43,  2.29s/it]"
     ]
    },
    {
     "name": "stdout",
     "output_type": "stream",
     "text": [
      "https://www.strava.com/activities//streams?stream_types%5B%5D=timer_time&stream_types%5B%5D=latlng&_=1537842990619 list index out of range\n"
     ]
    },
    {
     "name": "stderr",
     "output_type": "stream",
     "text": [
      "\n",
      " 95%|███████████████████████████████████████████████████████████████████████████▋    | 312/330 [13:02<00:39,  2.21s/it]\n",
      " 95%|███████████████████████████████████████████████████████████████████████████▉    | 313/330 [13:04<00:38,  2.26s/it]\n",
      " 95%|████████████████████████████████████████████████████████████████████████████    | 314/330 [13:07<00:36,  2.30s/it]"
     ]
    },
    {
     "name": "stdout",
     "output_type": "stream",
     "text": [
      "https://www.strava.com/activities//streams?stream_types%5B%5D=timer_time&stream_types%5B%5D=latlng&_=1537842990619 list index out of range\n"
     ]
    },
    {
     "name": "stderr",
     "output_type": "stream",
     "text": [
      "\n",
      " 95%|████████████████████████████████████████████████████████████████████████████▎   | 315/330 [13:09<00:33,  2.21s/it]\n",
      " 96%|████████████████████████████████████████████████████████████████████████████▌   | 316/330 [13:11<00:31,  2.24s/it]\n",
      " 96%|████████████████████████████████████████████████████████████████████████████▊   | 317/330 [13:13<00:29,  2.28s/it]"
     ]
    },
    {
     "name": "stdout",
     "output_type": "stream",
     "text": [
      "https://www.strava.com/activities//streams?stream_types%5B%5D=timer_time&stream_types%5B%5D=latlng&_=1537842990619 list index out of range\n"
     ]
    },
    {
     "name": "stderr",
     "output_type": "stream",
     "text": [
      "\n",
      " 96%|█████████████████████████████████████████████████████████████████████████████   | 318/330 [13:15<00:26,  2.20s/it]\n",
      " 97%|█████████████████████████████████████████████████████████████████████████████▎  | 319/330 [13:18<00:24,  2.25s/it]\n",
      " 97%|█████████████████████████████████████████████████████████████████████████████▌  | 320/330 [13:20<00:22,  2.26s/it]\n",
      " 97%|█████████████████████████████████████████████████████████████████████████████▊  | 321/330 [13:23<00:21,  2.40s/it]\n",
      " 98%|██████████████████████████████████████████████████████████████████████████████  | 322/330 [13:25<00:19,  2.38s/it]\n",
      " 98%|██████████████████████████████████████████████████████████████████████████████▎ | 323/330 [13:28<00:16,  2.41s/it]\n",
      " 98%|██████████████████████████████████████████████████████████████████████████████▌ | 324/330 [13:30<00:14,  2.42s/it]\n",
      " 98%|██████████████████████████████████████████████████████████████████████████████▊ | 325/330 [13:32<00:12,  2.42s/it]\n",
      " 99%|███████████████████████████████████████████████████████████████████████████████ | 326/330 [13:35<00:09,  2.41s/it]"
     ]
    },
    {
     "name": "stdout",
     "output_type": "stream",
     "text": [
      "https://www.strava.com/activities//streams?stream_types%5B%5D=timer_time&stream_types%5B%5D=latlng&_=1537842990619 list index out of range\n"
     ]
    },
    {
     "name": "stderr",
     "output_type": "stream",
     "text": [
      "\n",
      " 99%|███████████████████████████████████████████████████████████████████████████████▎| 327/330 [13:37<00:06,  2.29s/it]"
     ]
    },
    {
     "name": "stdout",
     "output_type": "stream",
     "text": [
      "https://www.strava.com/activities/667166453/streams?stream_types%5B%5D=timer_time&stream_types%5B%5D=latlng&_=1537842990619 Message: no such element: Unable to locate element: {\"method\":\"tag name\",\"selector\":\"pre\"}\n",
      "  (Session info: chrome=69.0.3497.100)\n",
      "  (Driver info: chromedriver=2.41.578737 (49da6702b16031c40d63e5618de0\n"
     ]
    },
    {
     "name": "stderr",
     "output_type": "stream",
     "text": [
      "\n",
      " 99%|███████████████████████████████████████████████████████████████████████████████▌| 328/330 [13:40<00:04,  2.49s/it]\n",
      "100%|███████████████████████████████████████████████████████████████████████████████▊| 329/330 [13:42<00:02,  2.51s/it]\n",
      "100%|████████████████████████████████████████████████████████████████████████████████| 330/330 [13:45<00:00,  2.46s/it]\n"
     ]
    }
   ],
   "source": [
    "#save JSON files locally for activity stats\n",
    "def get_json_activity_data(rows_for_iteration):\n",
    "    try:\n",
    "        #save the json_locally\n",
    "        \n",
    "        browser = webdriver.Chrome() \n",
    "        browser.get(pete) \n",
    "\n",
    "        username = browser.find_element_by_id('email')\n",
    "        username.clear()\n",
    "        username.send_keys(username_c)\n",
    "\n",
    "        password = browser.find_element_by_id('password')\n",
    "        password.clear()\n",
    "        password.send_keys(strava_pw)\n",
    "    \n",
    "        #click sign-in\n",
    "        browser.find_element_by_id(\"login-button\").click()\n",
    "\n",
    "        #wait to load\n",
    "        time.sleep(5) \n",
    "        \n",
    "        \n",
    "        for row in tqdm(rows_for_iteration):\n",
    "            try:\n",
    "#                 save_json_filename = re.findall('activities\\/\\d{5,}', row)[0].split(\"/\")[-1] + \"_s_pk.json\"\n",
    "                save_json_filename = re.findall('activities\\/\\d{5,}', row)[0].split(\"/\")[-1] + \"_ll_pk.json\"\n",
    "\n",
    "                browser.get(row)\n",
    "                pre = browser.find_element_by_tag_name(\"pre\").text\n",
    "                data = json.loads(pre)\n",
    "                with open(save_json_filename, 'w') as f:\n",
    "                    f.write(json.dumps(data))\n",
    "                time.sleep(2)\n",
    "            except Exception as e:\n",
    "                print(row, str(e)[:200])\n",
    "                time.sleep(2)\n",
    "    \n",
    "    finally:\n",
    "        browser.quit()\n",
    "        \n",
    "# get_json_activity_data(pk_activity)\n",
    "get_json_activity_data(pk_latlng)"
   ]
  },
  {
   "cell_type": "code",
   "execution_count": 3,
   "metadata": {},
   "outputs": [
    {
     "name": "stdout",
     "output_type": "stream",
     "text": [
      "https://www.strava.com/activities/ Message: no such element: Unable to locate element: {\"method\":\"class name\",\"selector\":\"timestamp\"}\n",
      "  (Session info: chrome=69.0.3497.100)\n",
      "  (Driver info: chromedriver=2.41.578737 (49da6702b16031c40d63e5618de03a32ff6c197e),platform=Windows NT 10.0.17134 x86_64)\n",
      "\n",
      "https://www.strava.com/activities/ Message: no such element: Unable to locate element: {\"method\":\"class name\",\"selector\":\"timestamp\"}\n",
      "  (Session info: chrome=69.0.3497.100)\n",
      "  (Driver info: chromedriver=2.41.578737 (49da6702b16031c40d63e5618de03a32ff6c197e),platform=Windows NT 10.0.17134 x86_64)\n",
      "\n",
      "https://www.strava.com/activities/ Message: no such element: Unable to locate element: {\"method\":\"class name\",\"selector\":\"timestamp\"}\n",
      "  (Session info: chrome=69.0.3497.100)\n",
      "  (Driver info: chromedriver=2.41.578737 (49da6702b16031c40d63e5618de03a32ff6c197e),platform=Windows NT 10.0.17134 x86_64)\n",
      "\n",
      "https://www.strava.com/activities/ Message: no such element: Unable to locate element: {\"method\":\"class name\",\"selector\":\"timestamp\"}\n",
      "  (Session info: chrome=69.0.3497.100)\n",
      "  (Driver info: chromedriver=2.41.578737 (49da6702b16031c40d63e5618de03a32ff6c197e),platform=Windows NT 10.0.17134 x86_64)\n",
      "\n",
      "https://www.strava.com/activities/ Message: no such element: Unable to locate element: {\"method\":\"class name\",\"selector\":\"timestamp\"}\n",
      "  (Session info: chrome=69.0.3497.100)\n",
      "  (Driver info: chromedriver=2.41.578737 (49da6702b16031c40d63e5618de03a32ff6c197e),platform=Windows NT 10.0.17134 x86_64)\n",
      "\n",
      "https://www.strava.com/activities/ Message: no such element: Unable to locate element: {\"method\":\"class name\",\"selector\":\"timestamp\"}\n",
      "  (Session info: chrome=69.0.3497.100)\n",
      "  (Driver info: chromedriver=2.41.578737 (49da6702b16031c40d63e5618de03a32ff6c197e),platform=Windows NT 10.0.17134 x86_64)\n",
      "\n",
      "https://www.strava.com/activities/ Message: no such element: Unable to locate element: {\"method\":\"class name\",\"selector\":\"timestamp\"}\n",
      "  (Session info: chrome=69.0.3497.100)\n",
      "  (Driver info: chromedriver=2.41.578737 (49da6702b16031c40d63e5618de03a32ff6c197e),platform=Windows NT 10.0.17134 x86_64)\n",
      "\n",
      "https://www.strava.com/activities/ Message: no such element: Unable to locate element: {\"method\":\"class name\",\"selector\":\"timestamp\"}\n",
      "  (Session info: chrome=69.0.3497.100)\n",
      "  (Driver info: chromedriver=2.41.578737 (49da6702b16031c40d63e5618de03a32ff6c197e),platform=Windows NT 10.0.17134 x86_64)\n",
      "\n",
      "https://www.strava.com/activities/ Message: no such element: Unable to locate element: {\"method\":\"class name\",\"selector\":\"timestamp\"}\n",
      "  (Session info: chrome=69.0.3497.100)\n",
      "  (Driver info: chromedriver=2.41.578737 (49da6702b16031c40d63e5618de03a32ff6c197e),platform=Windows NT 10.0.17134 x86_64)\n",
      "\n",
      "https://www.strava.com/activities/ Message: no such element: Unable to locate element: {\"method\":\"class name\",\"selector\":\"timestamp\"}\n",
      "  (Session info: chrome=69.0.3497.100)\n",
      "  (Driver info: chromedriver=2.41.578737 (49da6702b16031c40d63e5618de03a32ff6c197e),platform=Windows NT 10.0.17134 x86_64)\n",
      "\n",
      "https://www.strava.com/activities/ Message: no such element: Unable to locate element: {\"method\":\"class name\",\"selector\":\"timestamp\"}\n",
      "  (Session info: chrome=69.0.3497.100)\n",
      "  (Driver info: chromedriver=2.41.578737 (49da6702b16031c40d63e5618de03a32ff6c197e),platform=Windows NT 10.0.17134 x86_64)\n",
      "\n",
      "https://www.strava.com/activities/ Message: no such element: Unable to locate element: {\"method\":\"class name\",\"selector\":\"timestamp\"}\n",
      "  (Session info: chrome=69.0.3497.100)\n",
      "  (Driver info: chromedriver=2.41.578737 (49da6702b16031c40d63e5618de03a32ff6c197e),platform=Windows NT 10.0.17134 x86_64)\n",
      "\n",
      "https://www.strava.com/activities/ Message: no such element: Unable to locate element: {\"method\":\"class name\",\"selector\":\"timestamp\"}\n",
      "  (Session info: chrome=69.0.3497.100)\n",
      "  (Driver info: chromedriver=2.41.578737 (49da6702b16031c40d63e5618de03a32ff6c197e),platform=Windows NT 10.0.17134 x86_64)\n",
      "\n",
      "https://www.strava.com/activities/ Message: no such element: Unable to locate element: {\"method\":\"class name\",\"selector\":\"timestamp\"}\n",
      "  (Session info: chrome=69.0.3497.100)\n",
      "  (Driver info: chromedriver=2.41.578737 (49da6702b16031c40d63e5618de03a32ff6c197e),platform=Windows NT 10.0.17134 x86_64)\n",
      "\n",
      "https://www.strava.com/activities/ Message: no such element: Unable to locate element: {\"method\":\"class name\",\"selector\":\"timestamp\"}\n",
      "  (Session info: chrome=69.0.3497.100)\n",
      "  (Driver info: chromedriver=2.41.578737 (49da6702b16031c40d63e5618de03a32ff6c197e),platform=Windows NT 10.0.17134 x86_64)\n",
      "\n",
      "https://www.strava.com/activities/ Message: no such element: Unable to locate element: {\"method\":\"class name\",\"selector\":\"timestamp\"}\n",
      "  (Session info: chrome=69.0.3497.100)\n",
      "  (Driver info: chromedriver=2.41.578737 (49da6702b16031c40d63e5618de03a32ff6c197e),platform=Windows NT 10.0.17134 x86_64)\n",
      "\n",
      "https://www.strava.com/activities/ Message: no such element: Unable to locate element: {\"method\":\"class name\",\"selector\":\"timestamp\"}\n",
      "  (Session info: chrome=69.0.3497.100)\n",
      "  (Driver info: chromedriver=2.41.578737 (49da6702b16031c40d63e5618de03a32ff6c197e),platform=Windows NT 10.0.17134 x86_64)\n",
      "\n",
      "https://www.strava.com/activities/ Message: no such element: Unable to locate element: {\"method\":\"class name\",\"selector\":\"timestamp\"}\n",
      "  (Session info: chrome=69.0.3497.100)\n",
      "  (Driver info: chromedriver=2.41.578737 (49da6702b16031c40d63e5618de03a32ff6c197e),platform=Windows NT 10.0.17134 x86_64)\n",
      "\n",
      "https://www.strava.com/activities/ Message: no such element: Unable to locate element: {\"method\":\"class name\",\"selector\":\"timestamp\"}\n",
      "  (Session info: chrome=69.0.3497.100)\n",
      "  (Driver info: chromedriver=2.41.578737 (49da6702b16031c40d63e5618de03a32ff6c197e),platform=Windows NT 10.0.17134 x86_64)\n",
      "\n",
      "https://www.strava.com/activities/ Message: no such element: Unable to locate element: {\"method\":\"class name\",\"selector\":\"timestamp\"}\n",
      "  (Session info: chrome=69.0.3497.100)\n",
      "  (Driver info: chromedriver=2.41.578737 (49da6702b16031c40d63e5618de03a32ff6c197e),platform=Windows NT 10.0.17134 x86_64)\n",
      "\n",
      "https://www.strava.com/activities/ Message: no such element: Unable to locate element: {\"method\":\"class name\",\"selector\":\"timestamp\"}\n",
      "  (Session info: chrome=69.0.3497.100)\n",
      "  (Driver info: chromedriver=2.41.578737 (49da6702b16031c40d63e5618de03a32ff6c197e),platform=Windows NT 10.0.17134 x86_64)\n",
      "\n",
      "https://www.strava.com/activities/ Message: no such element: Unable to locate element: {\"method\":\"class name\",\"selector\":\"timestamp\"}\n",
      "  (Session info: chrome=69.0.3497.100)\n",
      "  (Driver info: chromedriver=2.41.578737 (49da6702b16031c40d63e5618de03a32ff6c197e),platform=Windows NT 10.0.17134 x86_64)\n",
      "\n",
      "https://www.strava.com/activities/ Message: no such element: Unable to locate element: {\"method\":\"class name\",\"selector\":\"timestamp\"}\n",
      "  (Session info: chrome=69.0.3497.100)\n",
      "  (Driver info: chromedriver=2.41.578737 (49da6702b16031c40d63e5618de03a32ff6c197e),platform=Windows NT 10.0.17134 x86_64)\n",
      "\n",
      "https://www.strava.com/activities/ Message: no such element: Unable to locate element: {\"method\":\"class name\",\"selector\":\"timestamp\"}\n",
      "  (Session info: chrome=69.0.3497.100)\n",
      "  (Driver info: chromedriver=2.41.578737 (49da6702b16031c40d63e5618de03a32ff6c197e),platform=Windows NT 10.0.17134 x86_64)\n",
      "\n",
      "https://www.strava.com/activities/ Message: no such element: Unable to locate element: {\"method\":\"class name\",\"selector\":\"timestamp\"}\n",
      "  (Session info: chrome=69.0.3497.100)\n",
      "  (Driver info: chromedriver=2.41.578737 (49da6702b16031c40d63e5618de03a32ff6c197e),platform=Windows NT 10.0.17134 x86_64)\n",
      "\n",
      "https://www.strava.com/activities/ Message: no such element: Unable to locate element: {\"method\":\"class name\",\"selector\":\"timestamp\"}\n",
      "  (Session info: chrome=69.0.3497.100)\n",
      "  (Driver info: chromedriver=2.41.578737 (49da6702b16031c40d63e5618de03a32ff6c197e),platform=Windows NT 10.0.17134 x86_64)\n",
      "\n",
      "https://www.strava.com/activities/ Message: no such element: Unable to locate element: {\"method\":\"class name\",\"selector\":\"timestamp\"}\n",
      "  (Session info: chrome=69.0.3497.100)\n",
      "  (Driver info: chromedriver=2.41.578737 (49da6702b16031c40d63e5618de03a32ff6c197e),platform=Windows NT 10.0.17134 x86_64)\n",
      "\n",
      "https://www.strava.com/activities/ Message: no such element: Unable to locate element: {\"method\":\"class name\",\"selector\":\"timestamp\"}\n",
      "  (Session info: chrome=69.0.3497.100)\n",
      "  (Driver info: chromedriver=2.41.578737 (49da6702b16031c40d63e5618de03a32ff6c197e),platform=Windows NT 10.0.17134 x86_64)\n"
     ]
    },
    {
     "name": "stdout",
     "output_type": "stream",
     "text": [
      "\n",
      "https://www.strava.com/activities/ Message: no such element: Unable to locate element: {\"method\":\"class name\",\"selector\":\"timestamp\"}\n",
      "  (Session info: chrome=69.0.3497.100)\n",
      "  (Driver info: chromedriver=2.41.578737 (49da6702b16031c40d63e5618de03a32ff6c197e),platform=Windows NT 10.0.17134 x86_64)\n",
      "\n",
      "https://www.strava.com/activities/ Message: no such element: Unable to locate element: {\"method\":\"class name\",\"selector\":\"timestamp\"}\n",
      "  (Session info: chrome=69.0.3497.100)\n",
      "  (Driver info: chromedriver=2.41.578737 (49da6702b16031c40d63e5618de03a32ff6c197e),platform=Windows NT 10.0.17134 x86_64)\n",
      "\n",
      "https://www.strava.com/activities/ Message: no such element: Unable to locate element: {\"method\":\"class name\",\"selector\":\"timestamp\"}\n",
      "  (Session info: chrome=69.0.3497.100)\n",
      "  (Driver info: chromedriver=2.41.578737 (49da6702b16031c40d63e5618de03a32ff6c197e),platform=Windows NT 10.0.17134 x86_64)\n",
      "\n",
      "https://www.strava.com/activities/ Message: no such element: Unable to locate element: {\"method\":\"class name\",\"selector\":\"timestamp\"}\n",
      "  (Session info: chrome=69.0.3497.100)\n",
      "  (Driver info: chromedriver=2.41.578737 (49da6702b16031c40d63e5618de03a32ff6c197e),platform=Windows NT 10.0.17134 x86_64)\n",
      "\n",
      "https://www.strava.com/activities/ Message: no such element: Unable to locate element: {\"method\":\"class name\",\"selector\":\"timestamp\"}\n",
      "  (Session info: chrome=69.0.3497.100)\n",
      "  (Driver info: chromedriver=2.41.578737 (49da6702b16031c40d63e5618de03a32ff6c197e),platform=Windows NT 10.0.17134 x86_64)\n",
      "\n",
      "https://www.strava.com/activities/ Message: no such element: Unable to locate element: {\"method\":\"class name\",\"selector\":\"timestamp\"}\n",
      "  (Session info: chrome=69.0.3497.100)\n",
      "  (Driver info: chromedriver=2.41.578737 (49da6702b16031c40d63e5618de03a32ff6c197e),platform=Windows NT 10.0.17134 x86_64)\n",
      "\n",
      "https://www.strava.com/activities/ Message: no such element: Unable to locate element: {\"method\":\"class name\",\"selector\":\"timestamp\"}\n",
      "  (Session info: chrome=69.0.3497.100)\n",
      "  (Driver info: chromedriver=2.41.578737 (49da6702b16031c40d63e5618de03a32ff6c197e),platform=Windows NT 10.0.17134 x86_64)\n",
      "\n",
      "https://www.strava.com/activities/ Message: no such element: Unable to locate element: {\"method\":\"class name\",\"selector\":\"timestamp\"}\n",
      "  (Session info: chrome=69.0.3497.100)\n",
      "  (Driver info: chromedriver=2.41.578737 (49da6702b16031c40d63e5618de03a32ff6c197e),platform=Windows NT 10.0.17134 x86_64)\n",
      "\n",
      "https://www.strava.com/activities/ Message: no such element: Unable to locate element: {\"method\":\"class name\",\"selector\":\"timestamp\"}\n",
      "  (Session info: chrome=69.0.3497.100)\n",
      "  (Driver info: chromedriver=2.41.578737 (49da6702b16031c40d63e5618de03a32ff6c197e),platform=Windows NT 10.0.17134 x86_64)\n",
      "\n",
      "https://www.strava.com/activities/ Message: no such element: Unable to locate element: {\"method\":\"class name\",\"selector\":\"timestamp\"}\n",
      "  (Session info: chrome=69.0.3497.100)\n",
      "  (Driver info: chromedriver=2.41.578737 (49da6702b16031c40d63e5618de03a32ff6c197e),platform=Windows NT 10.0.17134 x86_64)\n",
      "\n",
      "https://www.strava.com/activities/ Message: no such element: Unable to locate element: {\"method\":\"class name\",\"selector\":\"timestamp\"}\n",
      "  (Session info: chrome=69.0.3497.100)\n",
      "  (Driver info: chromedriver=2.41.578737 (49da6702b16031c40d63e5618de03a32ff6c197e),platform=Windows NT 10.0.17134 x86_64)\n",
      "\n",
      "https://www.strava.com/activities/ Message: no such element: Unable to locate element: {\"method\":\"class name\",\"selector\":\"timestamp\"}\n",
      "  (Session info: chrome=69.0.3497.100)\n",
      "  (Driver info: chromedriver=2.41.578737 (49da6702b16031c40d63e5618de03a32ff6c197e),platform=Windows NT 10.0.17134 x86_64)\n",
      "\n",
      "https://www.strava.com/activities/ Message: no such element: Unable to locate element: {\"method\":\"class name\",\"selector\":\"timestamp\"}\n",
      "  (Session info: chrome=69.0.3497.100)\n",
      "  (Driver info: chromedriver=2.41.578737 (49da6702b16031c40d63e5618de03a32ff6c197e),platform=Windows NT 10.0.17134 x86_64)\n",
      "\n",
      "https://www.strava.com/activities/ Message: no such element: Unable to locate element: {\"method\":\"class name\",\"selector\":\"timestamp\"}\n",
      "  (Session info: chrome=69.0.3497.100)\n",
      "  (Driver info: chromedriver=2.41.578737 (49da6702b16031c40d63e5618de03a32ff6c197e),platform=Windows NT 10.0.17134 x86_64)\n",
      "\n",
      "https://www.strava.com/activities/ Message: no such element: Unable to locate element: {\"method\":\"class name\",\"selector\":\"timestamp\"}\n",
      "  (Session info: chrome=69.0.3497.100)\n",
      "  (Driver info: chromedriver=2.41.578737 (49da6702b16031c40d63e5618de03a32ff6c197e),platform=Windows NT 10.0.17134 x86_64)\n",
      "\n",
      "https://www.strava.com/activities/ Message: no such element: Unable to locate element: {\"method\":\"class name\",\"selector\":\"timestamp\"}\n",
      "  (Session info: chrome=69.0.3497.100)\n",
      "  (Driver info: chromedriver=2.41.578737 (49da6702b16031c40d63e5618de03a32ff6c197e),platform=Windows NT 10.0.17134 x86_64)\n",
      "\n",
      "https://www.strava.com/activities/ Message: no such element: Unable to locate element: {\"method\":\"class name\",\"selector\":\"timestamp\"}\n",
      "  (Session info: chrome=69.0.3497.100)\n",
      "  (Driver info: chromedriver=2.41.578737 (49da6702b16031c40d63e5618de03a32ff6c197e),platform=Windows NT 10.0.17134 x86_64)\n",
      "\n",
      "https://www.strava.com/activities/ Message: no such element: Unable to locate element: {\"method\":\"class name\",\"selector\":\"timestamp\"}\n",
      "  (Session info: chrome=69.0.3497.100)\n",
      "  (Driver info: chromedriver=2.41.578737 (49da6702b16031c40d63e5618de03a32ff6c197e),platform=Windows NT 10.0.17134 x86_64)\n",
      "\n",
      "https://www.strava.com/activities/ Message: no such element: Unable to locate element: {\"method\":\"class name\",\"selector\":\"timestamp\"}\n",
      "  (Session info: chrome=69.0.3497.100)\n",
      "  (Driver info: chromedriver=2.41.578737 (49da6702b16031c40d63e5618de03a32ff6c197e),platform=Windows NT 10.0.17134 x86_64)\n",
      "\n",
      "https://www.strava.com/activities/ Message: no such element: Unable to locate element: {\"method\":\"class name\",\"selector\":\"timestamp\"}\n",
      "  (Session info: chrome=69.0.3497.100)\n",
      "  (Driver info: chromedriver=2.41.578737 (49da6702b16031c40d63e5618de03a32ff6c197e),platform=Windows NT 10.0.17134 x86_64)\n",
      "\n",
      "https://www.strava.com/activities/ Message: no such element: Unable to locate element: {\"method\":\"class name\",\"selector\":\"timestamp\"}\n",
      "  (Session info: chrome=69.0.3497.100)\n",
      "  (Driver info: chromedriver=2.41.578737 (49da6702b16031c40d63e5618de03a32ff6c197e),platform=Windows NT 10.0.17134 x86_64)\n",
      "\n",
      "https://www.strava.com/activities/ Message: no such element: Unable to locate element: {\"method\":\"class name\",\"selector\":\"timestamp\"}\n",
      "  (Session info: chrome=69.0.3497.100)\n",
      "  (Driver info: chromedriver=2.41.578737 (49da6702b16031c40d63e5618de03a32ff6c197e),platform=Windows NT 10.0.17134 x86_64)\n",
      "\n",
      "https://www.strava.com/activities/ Message: no such element: Unable to locate element: {\"method\":\"class name\",\"selector\":\"timestamp\"}\n",
      "  (Session info: chrome=69.0.3497.100)\n",
      "  (Driver info: chromedriver=2.41.578737 (49da6702b16031c40d63e5618de03a32ff6c197e),platform=Windows NT 10.0.17134 x86_64)\n",
      "\n",
      "https://www.strava.com/activities/ Message: no such element: Unable to locate element: {\"method\":\"class name\",\"selector\":\"timestamp\"}\n",
      "  (Session info: chrome=69.0.3497.100)\n",
      "  (Driver info: chromedriver=2.41.578737 (49da6702b16031c40d63e5618de03a32ff6c197e),platform=Windows NT 10.0.17134 x86_64)\n",
      "\n",
      "https://www.strava.com/activities/ Message: no such element: Unable to locate element: {\"method\":\"class name\",\"selector\":\"timestamp\"}\n",
      "  (Session info: chrome=69.0.3497.100)\n",
      "  (Driver info: chromedriver=2.41.578737 (49da6702b16031c40d63e5618de03a32ff6c197e),platform=Windows NT 10.0.17134 x86_64)\n",
      "\n",
      "https://www.strava.com/activities/ Message: no such element: Unable to locate element: {\"method\":\"class name\",\"selector\":\"timestamp\"}\n",
      "  (Session info: chrome=69.0.3497.100)\n",
      "  (Driver info: chromedriver=2.41.578737 (49da6702b16031c40d63e5618de03a32ff6c197e),platform=Windows NT 10.0.17134 x86_64)\n",
      "\n",
      "https://www.strava.com/activities/ Message: no such element: Unable to locate element: {\"method\":\"class name\",\"selector\":\"timestamp\"}\n",
      "  (Session info: chrome=69.0.3497.100)\n",
      "  (Driver info: chromedriver=2.41.578737 (49da6702b16031c40d63e5618de03a32ff6c197e),platform=Windows NT 10.0.17134 x86_64)\n",
      "\n",
      "https://www.strava.com/activities/ Message: no such element: Unable to locate element: {\"method\":\"class name\",\"selector\":\"timestamp\"}\n",
      "  (Session info: chrome=69.0.3497.100)\n",
      "  (Driver info: chromedriver=2.41.578737 (49da6702b16031c40d63e5618de03a32ff6c197e),platform=Windows NT 10.0.17134 x86_64)\n"
     ]
    },
    {
     "name": "stdout",
     "output_type": "stream",
     "text": [
      "\n",
      "https://www.strava.com/activities/ Message: no such element: Unable to locate element: {\"method\":\"class name\",\"selector\":\"timestamp\"}\n",
      "  (Session info: chrome=69.0.3497.100)\n",
      "  (Driver info: chromedriver=2.41.578737 (49da6702b16031c40d63e5618de03a32ff6c197e),platform=Windows NT 10.0.17134 x86_64)\n",
      "\n",
      "https://www.strava.com/activities/ Message: no such element: Unable to locate element: {\"method\":\"class name\",\"selector\":\"timestamp\"}\n",
      "  (Session info: chrome=69.0.3497.100)\n",
      "  (Driver info: chromedriver=2.41.578737 (49da6702b16031c40d63e5618de03a32ff6c197e),platform=Windows NT 10.0.17134 x86_64)\n",
      "\n",
      "https://www.strava.com/activities/ Message: no such element: Unable to locate element: {\"method\":\"class name\",\"selector\":\"timestamp\"}\n",
      "  (Session info: chrome=69.0.3497.100)\n",
      "  (Driver info: chromedriver=2.41.578737 (49da6702b16031c40d63e5618de03a32ff6c197e),platform=Windows NT 10.0.17134 x86_64)\n",
      "\n",
      "https://www.strava.com/activities/ Message: no such element: Unable to locate element: {\"method\":\"class name\",\"selector\":\"timestamp\"}\n",
      "  (Session info: chrome=69.0.3497.100)\n",
      "  (Driver info: chromedriver=2.41.578737 (49da6702b16031c40d63e5618de03a32ff6c197e),platform=Windows NT 10.0.17134 x86_64)\n",
      "\n",
      "https://www.strava.com/activities/ Message: no such element: Unable to locate element: {\"method\":\"class name\",\"selector\":\"timestamp\"}\n",
      "  (Session info: chrome=69.0.3497.100)\n",
      "  (Driver info: chromedriver=2.41.578737 (49da6702b16031c40d63e5618de03a32ff6c197e),platform=Windows NT 10.0.17134 x86_64)\n",
      "\n",
      "https://www.strava.com/activities/ Message: no such element: Unable to locate element: {\"method\":\"class name\",\"selector\":\"timestamp\"}\n",
      "  (Session info: chrome=69.0.3497.100)\n",
      "  (Driver info: chromedriver=2.41.578737 (49da6702b16031c40d63e5618de03a32ff6c197e),platform=Windows NT 10.0.17134 x86_64)\n",
      "\n",
      "https://www.strava.com/activities/ Message: no such element: Unable to locate element: {\"method\":\"class name\",\"selector\":\"timestamp\"}\n",
      "  (Session info: chrome=69.0.3497.100)\n",
      "  (Driver info: chromedriver=2.41.578737 (49da6702b16031c40d63e5618de03a32ff6c197e),platform=Windows NT 10.0.17134 x86_64)\n",
      "\n",
      "https://www.strava.com/activities/ Message: no such element: Unable to locate element: {\"method\":\"class name\",\"selector\":\"timestamp\"}\n",
      "  (Session info: chrome=69.0.3497.100)\n",
      "  (Driver info: chromedriver=2.41.578737 (49da6702b16031c40d63e5618de03a32ff6c197e),platform=Windows NT 10.0.17134 x86_64)\n",
      "\n",
      "https://www.strava.com/activities/ Message: no such element: Unable to locate element: {\"method\":\"class name\",\"selector\":\"timestamp\"}\n",
      "  (Session info: chrome=69.0.3497.100)\n",
      "  (Driver info: chromedriver=2.41.578737 (49da6702b16031c40d63e5618de03a32ff6c197e),platform=Windows NT 10.0.17134 x86_64)\n",
      "\n",
      "https://www.strava.com/activities/ Message: no such element: Unable to locate element: {\"method\":\"class name\",\"selector\":\"timestamp\"}\n",
      "  (Session info: chrome=69.0.3497.100)\n",
      "  (Driver info: chromedriver=2.41.578737 (49da6702b16031c40d63e5618de03a32ff6c197e),platform=Windows NT 10.0.17134 x86_64)\n",
      "\n",
      "https://www.strava.com/activities/ Message: no such element: Unable to locate element: {\"method\":\"class name\",\"selector\":\"timestamp\"}\n",
      "  (Session info: chrome=69.0.3497.100)\n",
      "  (Driver info: chromedriver=2.41.578737 (49da6702b16031c40d63e5618de03a32ff6c197e),platform=Windows NT 10.0.17134 x86_64)\n",
      "\n",
      "https://www.strava.com/activities/ Message: no such element: Unable to locate element: {\"method\":\"class name\",\"selector\":\"timestamp\"}\n",
      "  (Session info: chrome=69.0.3497.100)\n",
      "  (Driver info: chromedriver=2.41.578737 (49da6702b16031c40d63e5618de03a32ff6c197e),platform=Windows NT 10.0.17134 x86_64)\n",
      "\n",
      "https://www.strava.com/activities/ Message: no such element: Unable to locate element: {\"method\":\"class name\",\"selector\":\"timestamp\"}\n",
      "  (Session info: chrome=69.0.3497.100)\n",
      "  (Driver info: chromedriver=2.41.578737 (49da6702b16031c40d63e5618de03a32ff6c197e),platform=Windows NT 10.0.17134 x86_64)\n",
      "\n",
      "https://www.strava.com/activities/ Message: no such element: Unable to locate element: {\"method\":\"class name\",\"selector\":\"timestamp\"}\n",
      "  (Session info: chrome=69.0.3497.100)\n",
      "  (Driver info: chromedriver=2.41.578737 (49da6702b16031c40d63e5618de03a32ff6c197e),platform=Windows NT 10.0.17134 x86_64)\n",
      "\n",
      "https://www.strava.com/activities/ Message: no such element: Unable to locate element: {\"method\":\"class name\",\"selector\":\"timestamp\"}\n",
      "  (Session info: chrome=69.0.3497.100)\n",
      "  (Driver info: chromedriver=2.41.578737 (49da6702b16031c40d63e5618de03a32ff6c197e),platform=Windows NT 10.0.17134 x86_64)\n",
      "\n"
     ]
    }
   ],
   "source": [
    "#get date of activity\n",
    "def get_date(activities):\n",
    "    try:\n",
    "        browser = webdriver.Chrome() \n",
    "\n",
    "        pk_date = dict()\n",
    "        for x in activities:\n",
    "            try:\n",
    "                browser.get(x)\n",
    "                browser.implicitly_wait(5)\n",
    "                date = browser.find_element_by_class_name(\"timestamp\").text\n",
    "                activity = x.split(\"/\")[-1]\n",
    "                pk_date.update({activity:date})\n",
    "            \n",
    "            except Exception as e:\n",
    "                pk_date.update({\"na\":\"na\"})\n",
    "                print(x, str(e)[:300])\n",
    "                time.sleep(2)    \n",
    "    finally:\n",
    "        browser.quit()\n",
    "        \n",
    "    return pk_date\n",
    "\n",
    "pk_date = get_date(pk_activity_id)"
   ]
  },
  {
   "cell_type": "code",
   "execution_count": 4,
   "metadata": {},
   "outputs": [
    {
     "data": {
      "text/plain": [
       "{'1676142037': 'July 2, 2018',\n",
       " '1677189666': 'July 2, 2018',\n",
       " '1677791851': 'July 3, 2018',\n",
       " '1678243092': 'July 3, 2018',\n",
       " '1679301301': 'July 3, 2018',\n",
       " '1680472755': 'July 4, 2018',\n",
       " '1683266725': 'July 5, 2018',\n",
       " '1683549631': 'July 5, 2018',\n",
       " '1684268160': 'July 6, 2018',\n",
       " '1685292683': 'July 6, 2018',\n",
       " '1687694823': 'July 7, 2018',\n",
       " '1691763442': 'July 9, 2018',\n",
       " '1692945370': 'July 10, 2018',\n",
       " '1693663030': 'July 10, 2018',\n",
       " '1694437755': 'July 10, 2018',\n",
       " '1695513652': 'July 11, 2018',\n",
       " '1701778189': 'July 14, 2018',\n",
       " '1711582266': 'July 18, 2018',\n",
       " '1712802404': 'July 19, 2018',\n",
       " '1714306978': 'July 19, 2018',\n",
       " '1714967808': 'July 20, 2018',\n",
       " '1716004022': 'July 20, 2018',\n",
       " '1718585265': 'July 21, 2018',\n",
       " '1726190663': 'July 23, 2018',\n",
       " '1738531254': 'July 30, 2018',\n",
       " '1741436269': 'July 31, 2018',\n",
       " '1743692440': 'August 1, 2018',\n",
       " '1746178154': 'August 2, 2018',\n",
       " '1748033438': 'August 3, 2018',\n",
       " '1755121360': 'August 4, 2018',\n",
       " '1755123407': 'August 5, 2018',\n",
       " '1755125808': 'August 6, 2018',\n",
       " '1757233426': 'August 7, 2018',\n",
       " '1759445890': 'August 8, 2018',\n",
       " '1761682055': 'August 9, 2018',\n",
       " '1765893459': 'August 10, 2018',\n",
       " '1765897329': 'August 11, 2018',\n",
       " '1770421981': 'August 12, 2018',\n",
       " '1770427139': 'August 13, 2018',\n",
       " '1772763320': 'August 14, 2018',\n",
       " '1775398329': 'August 15, 2018',\n",
       " '1777153265': 'August 16, 2018',\n",
       " '1779413983': 'August 17, 2018',\n",
       " '1781560299': 'August 18, 2018',\n",
       " '1784390450': 'August 19, 2018',\n",
       " '1786504012': 'August 20, 2018',\n",
       " '1788485570': 'August 21, 2018',\n",
       " '1797645613': 'August 22, 2018',\n",
       " '1797646900': 'August 24, 2018',\n",
       " '1797649365': 'August 25, 2018',\n",
       " '1802072050': 'August 26, 2018',\n",
       " '1802076990': 'August 27, 2018',\n",
       " '1804339586': 'August 28, 2018',\n",
       " '1806534809': 'August 29, 2018',\n",
       " '1808560745': 'August 30, 2018',\n",
       " '1810723319': 'August 31, 2018',\n",
       " '1812801320': 'September 1, 2018',\n",
       " '1815565447': 'September 2, 2018',\n",
       " '1817552169': 'September 3, 2018',\n",
       " '1820003684': 'September 4, 2018',\n",
       " '1820005533': 'September 4, 2018',\n",
       " '1822015776': 'September 5, 2018',\n",
       " '1824302516': 'September 6, 2018',\n",
       " '1826174607': 'September 7, 2018',\n",
       " '1828662035': 'September 8, 2018',\n",
       " '1831316360': 'September 9, 2018',\n",
       " '1833216578': 'September 10, 2018',\n",
       " '1835493665': 'September 11, 2018',\n",
       " '1837966239': 'September 12, 2018',\n",
       " '1839956890': 'September 13, 2018',\n",
       " '1841617358': 'September 14, 2018',\n",
       " '1843973539': 'September 15, 2018',\n",
       " '1846837389': 'September 16, 2018',\n",
       " '1848845094': 'September 17, 2018',\n",
       " '1850952249': 'September 18, 2018',\n",
       " '1853149513': 'September 19, 2018',\n",
       " '1855203916': 'September 20, 2018',\n",
       " '1857139731': 'September 21, 2018',\n",
       " '1859252861': 'September 22, 2018',\n",
       " '1861929667': 'September 23, 2018',\n",
       " '1863652549': 'September 24, 2018',\n",
       " '1865608692': 'September 25, 2018',\n",
       " '1867822667': 'September 26, 2018',\n",
       " '1869794210': 'September 27, 2018',\n",
       " '1871727489': 'September 28, 2018',\n",
       " '1874086963': 'September 29, 2018',\n",
       " '1876652865': 'September 30, 2018',\n",
       " '1878207205': 'October 1, 2018',\n",
       " '1880453228': 'October 2, 2018',\n",
       " '1882712787': 'October 3, 2018',\n",
       " '1884681261': 'October 4, 2018',\n",
       " '1886374937': 'October 5, 2018',\n",
       " '1888619554': 'October 6, 2018',\n",
       " '1891154588': 'October 7, 2018',\n",
       " '1892918073': 'October 8, 2018',\n",
       " '1895028046': 'October 9, 2018',\n",
       " '660774211': 'August 1, 2016',\n",
       " '663002930': 'August 3, 2016',\n",
       " '664142190': 'August 4, 2016',\n",
       " '665269003': 'August 5, 2016',\n",
       " '666753009': 'August 6, 2016',\n",
       " '667166453': 'August 6, 2016',\n",
       " '668350695': 'August 7, 2016',\n",
       " '668778658': 'August 8, 2016',\n",
       " '669497626': 'August 8, 2016',\n",
       " '669911774': 'August 9, 2016',\n",
       " '670699041': 'August 9, 2016',\n",
       " '671103006': 'August 10, 2016',\n",
       " '671817484': 'August 10, 2016',\n",
       " '672204587': 'August 11, 2016',\n",
       " '672907189': 'August 11, 2016',\n",
       " '673299567': 'August 12, 2016',\n",
       " '673943636': 'August 12, 2016',\n",
       " '674954519': 'August 13, 2016',\n",
       " '676334743': 'August 14, 2016',\n",
       " '676792557': 'August 15, 2016',\n",
       " '677536050': 'August 15, 2016',\n",
       " '677936651': 'August 16, 2016',\n",
       " '678743749': 'August 16, 2016',\n",
       " '679165434': 'August 17, 2016',\n",
       " '679958786': 'August 17, 2016',\n",
       " '680392725': 'August 18, 2016',\n",
       " '681134902': 'August 18, 2016',\n",
       " '681500929': 'August 19, 2016',\n",
       " '682043075': 'August 19, 2016',\n",
       " '683183939': 'August 20, 2016',\n",
       " '684434814': 'August 21, 2016',\n",
       " '684792555': 'August 22, 2016',\n",
       " '685512952': 'August 22, 2016',\n",
       " '685940391': 'August 23, 2016',\n",
       " '686799397': 'August 23, 2016',\n",
       " '687243180': 'August 24, 2016',\n",
       " '688054678': 'August 24, 2016',\n",
       " '688470944': 'August 25, 2016',\n",
       " '689543734': 'August 25, 2016',\n",
       " '689543798': 'August 26, 2016',\n",
       " '692084371': 'August 27, 2016',\n",
       " '692790866': 'August 28, 2016',\n",
       " '693094059': 'August 29, 2016',\n",
       " '693815963': 'August 29, 2016',\n",
       " '694152863': 'August 30, 2016',\n",
       " '695011841': 'August 30, 2016',\n",
       " '695455629': 'August 31, 2016',\n",
       " '696217226': 'August 31, 2016',\n",
       " '696590427': 'September 1, 2016',\n",
       " '697418399': 'September 1, 2016',\n",
       " '697752488': 'September 2, 2016',\n",
       " '698277667': 'September 2, 2016',\n",
       " '699598746': 'September 3, 2016',\n",
       " '710141572': 'September 12, 2016',\n",
       " '710330147': 'September 12, 2016',\n",
       " '710391025': 'September 12, 2016',\n",
       " '711043542': 'September 13, 2016',\n",
       " '713868431': 'September 13, 2016',\n",
       " '713868530': 'September 13, 2016',\n",
       " '713868706': 'September 14, 2016',\n",
       " '713868714': 'September 14, 2016',\n",
       " '713868753': 'September 14, 2016',\n",
       " '713868909': 'September 14, 2016',\n",
       " '713868933': 'September 15, 2016',\n",
       " '713868973': 'September 15, 2016',\n",
       " '713869125': 'September 15, 2016',\n",
       " '714720355': 'September 16, 2016',\n",
       " '714782826': 'September 16, 2016',\n",
       " '721201087': 'September 17, 2016',\n",
       " '721202453': 'September 19, 2016',\n",
       " '721203602': 'September 20, 2016',\n",
       " '721204833': 'September 21, 2016',\n",
       " '721206654': 'September 22, 2016',\n",
       " '721215632': 'September 17, 2016',\n",
       " '721216013': 'September 17, 2016',\n",
       " '721217401': 'September 19, 2016',\n",
       " '721218756': 'September 20, 2016',\n",
       " '721220339': 'September 21, 2016',\n",
       " '725175253': 'September 23, 2016',\n",
       " '725175825': 'September 24, 2016',\n",
       " '725178844': 'September 25, 2016',\n",
       " '725181481': 'September 22, 2016',\n",
       " '725182112': 'September 23, 2016',\n",
       " '725182854': 'September 24, 2016',\n",
       " '725183651': 'September 25, 2016',\n",
       " '726123731': 'September 26, 2016',\n",
       " '726156924': 'September 26, 2016',\n",
       " '726783918': 'September 27, 2016',\n",
       " '727220763': 'September 27, 2016',\n",
       " '728338514': 'September 28, 2016',\n",
       " '728343436': 'September 28, 2016',\n",
       " '731284081': 'September 29, 2016',\n",
       " '731284882': 'September 30, 2016',\n",
       " '731292379': 'October 1, 2016',\n",
       " '731293348': 'September 29, 2016',\n",
       " '731293817': 'September 30, 2016',\n",
       " '731294345': 'October 1, 2016',\n",
       " '732182577': 'October 2, 2016',\n",
       " '732602935': 'October 2, 2016',\n",
       " '733143123': 'October 3, 2016',\n",
       " '733566177': 'October 3, 2016',\n",
       " '734612492': 'October 4, 2016',\n",
       " '734619249': 'October 4, 2016',\n",
       " '735242963': 'October 5, 2016',\n",
       " '735644870': 'October 5, 2016',\n",
       " '736662480': 'October 6, 2016',\n",
       " '736683402': 'October 6, 2016',\n",
       " '737241040': 'October 7, 2016',\n",
       " '737553295': 'October 7, 2016',\n",
       " '738331587': 'October 8, 2016',\n",
       " '738645498': 'October 8, 2016',\n",
       " '739514518': 'October 9, 2016',\n",
       " '739926165': 'October 9, 2016',\n",
       " '740470353': 'October 10, 2016',\n",
       " '740881362': 'October 10, 2016',\n",
       " '741482596': 'October 11, 2016',\n",
       " '741839984': 'October 11, 2016',\n",
       " '742524106': 'October 12, 2016',\n",
       " '742921100': 'October 12, 2016',\n",
       " '743494499': 'October 13, 2016',\n",
       " '743839660': 'October 13, 2016',\n",
       " '744356654': 'October 14, 2016',\n",
       " '744645315': 'October 14, 2016',\n",
       " '745449856': 'October 15, 2016',\n",
       " '745772815': 'October 15, 2016',\n",
       " '746682208': 'October 16, 2016',\n",
       " '747080804': 'October 16, 2016',\n",
       " '747613288': 'October 17, 2016',\n",
       " '747971063': 'October 17, 2016',\n",
       " '748558685': 'October 18, 2016',\n",
       " '748937578': 'October 18, 2016',\n",
       " '749599516': 'October 19, 2016',\n",
       " '749971686': 'October 19, 2016',\n",
       " '750574112': 'October 20, 2016',\n",
       " '750953020': 'October 20, 2016',\n",
       " '751487237': 'October 21, 2016',\n",
       " '751767011': 'October 21, 2016',\n",
       " '752417665': 'October 22, 2016',\n",
       " '752815950': 'October 22, 2016',\n",
       " '753612133': 'October 23, 2016',\n",
       " '754036009': 'October 23, 2016',\n",
       " '754394196': 'October 24, 2016',\n",
       " '754624558': 'October 24, 2016',\n",
       " '755068515': 'October 24, 2016',\n",
       " '759797734': 'October 29, 2016',\n",
       " '765167312': 'November 3, 2016',\n",
       " '766018104': 'November 4, 2016',\n",
       " '766910369': 'November 5, 2016',\n",
       " '768251907': 'November 6, 2016',\n",
       " '769214803': 'November 7, 2016',\n",
       " '770168607': 'November 8, 2016',\n",
       " '771039023': 'November 9, 2016',\n",
       " '771888735': 'November 10, 2016',\n",
       " '772687674': 'November 11, 2016',\n",
       " '774197180': 'November 12, 2016',\n",
       " '774197441': 'November 13, 2016',\n",
       " '776708872': 'November 15, 2016',\n",
       " '778527653': 'November 17, 2016',\n",
       " '779223430': 'November 18, 2016',\n",
       " '781285338': 'November 20, 2016',\n",
       " '781358474': 'November 20, 2016',\n",
       " '783017901': 'November 22, 2016',\n",
       " '783908844': 'November 23, 2016',\n",
       " '787548938': 'November 27, 2016',\n",
       " '791098566': 'December 1, 2016',\n",
       " '792699970': 'December 3, 2016',\n",
       " '793874376': 'December 4, 2016',\n",
       " 'na': 'na'}"
      ]
     },
     "execution_count": 4,
     "metadata": {},
     "output_type": "execute_result"
    }
   ],
   "source": [
    "pk_date"
   ]
  },
  {
   "cell_type": "code",
   "execution_count": 5,
   "metadata": {},
   "outputs": [],
   "source": [
    "pk_date_json = json.dumps(pk_date)\n",
    "pk_date_json\n",
    "\n",
    "with open('pk_date.json', 'w') as f:\n",
    "    json.dump(pk_date, f)"
   ]
  },
  {
   "cell_type": "code",
   "execution_count": 17,
   "metadata": {},
   "outputs": [],
   "source": [
    "sample_activity_json_url = \"https://www.strava.com/activities/1624830078/streams?stream_types%5B%5D=altitude&stream_types%5B%5D=heartrate&stream_types%5B%5D=cadence&stream_types%5B%5D=temp&stream_types%5B%5D=distance&stream_types%5B%5D=grade_smooth&stream_types%5B%5D=time&stream_types%5B%5D=grade_adjusted_distance&_=1538018467153\"\n"
   ]
  },
  {
   "cell_type": "code",
   "execution_count": 19,
   "metadata": {},
   "outputs": [],
   "source": [
    "#load driver into beautiful soup\n",
    "from selenium import webdriver\n",
    "driver = webdriver.Chrome()\n",
    "driver.get(pete)\n",
    "time.sleep(3)\n",
    "soup = BeautifulSoup(driver.page_source, 'lxml')"
   ]
  },
  {
   "cell_type": "code",
   "execution_count": null,
   "metadata": {},
   "outputs": [],
   "source": []
  }
 ],
 "metadata": {
  "kernelspec": {
   "display_name": "Python 3",
   "language": "python",
   "name": "python3"
  },
  "language_info": {
   "codemirror_mode": {
    "name": "ipython",
    "version": 3
   },
   "file_extension": ".py",
   "mimetype": "text/x-python",
   "name": "python",
   "nbconvert_exporter": "python",
   "pygments_lexer": "ipython3",
   "version": "3.6.4"
  }
 },
 "nbformat": 4,
 "nbformat_minor": 2
}
