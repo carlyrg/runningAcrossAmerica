{
 "cells": [
  {
   "cell_type": "code",
   "execution_count": 46,
   "metadata": {},
   "outputs": [],
   "source": [
    "import requests\n",
    "from lxml import html\n",
    "import pandas as pd\n",
    "from bs4 import BeautifulSoup\n",
    "import re\n",
    "import sys\n",
    "from datetime import datetime\n",
    "import time\n",
    "import numpy as np\n",
    "import json\n",
    "from config import *\n",
    "\n",
    "from selenium import webdriver\n",
    "from selenium.webdriver.common.keys import Keys\n",
    "from selenium.webdriver.common.by import By\n",
    "from selenium.webdriver.support.ui import WebDriverWait\n",
    "from selenium.webdriver.support import expected_conditions as EC\n",
    "from selenium.common.exceptions import TimeoutException\n",
    "from selenium.webdriver.chrome.options import Options\n",
    "\n",
    "import time\n",
    "import json\n",
    "import re\n",
    "from tqdm import tqdm"
   ]
  },
  {
   "cell_type": "code",
   "execution_count": 3,
   "metadata": {},
   "outputs": [],
   "source": [
    "#strava\n",
    "\n",
    "# stats= https://www.strava.com/activities/586018101/streams?stream_types%5B%5D=timer_time&stream_types%5B%5D=altitude&stream_types%5B%5D=heartrate&stream_types%5B%5D=cadence&stream_types%5B%5D=temp&stream_types%5B%5D=distance&stream_types%5B%5D=grade_smooth&stream_types%5B%5D=time&stream_types%5B%5D=grade_adjusted_distance&_=1537842990620\n",
    "# latlng = https://www.strava.com/activities/586018101/streams?stream_types%5B%5D=timer_time&stream_types%5B%5D=latlng&_=1537842990619\n"
   ]
  },
  {
   "cell_type": "code",
   "execution_count": 62,
   "metadata": {},
   "outputs": [
    {
     "data": {
      "text/plain": [
       "233"
      ]
     },
     "execution_count": 62,
     "metadata": {},
     "output_type": "execute_result"
    }
   ],
   "source": [
    "#load webpage\n",
    "\n",
    "def get_json_links():\n",
    "    try:\n",
    "        pete = \"https://www.strava.com/athletes/16102568/training/log?feature=sidebar-progress-goals-v2\"\n",
    "        browser = webdriver.Chrome() \n",
    "        browser.get(pete) #navigate to the page\n",
    "        browser.implicitly_wait(5)\n",
    "\n",
    "        #sign-in\n",
    "        username = browser.find_element_by_id('email')\n",
    "        username.clear()\n",
    "        username.send_keys(username_c)\n",
    "\n",
    "        password = browser.find_element_by_id('password')\n",
    "        password.clear()\n",
    "        password.send_keys(strava_pw)\n",
    "\n",
    "        browser.find_element_by_id(\"login-button\").click()\n",
    "\n",
    "        #select year on side\n",
    "        year = browser.find_element_by_xpath('//*[@id=\"events-nav\"]/li[3]/a').click()\n",
    "\n",
    "        #select month on side\n",
    "        month = browser.find_element_by_xpath('//*[@id=\"events-nav\"]/li[3]/ol/li[3]/a').click()\n",
    "\n",
    "        #access the right part of page so visible by browser\n",
    "        october = browser.find_element_by_xpath('//*[@id=\"2016y37w\"]')\n",
    "        webdriver.ActionChains(browser).move_to_element(october).click()\n",
    "\n",
    "        #find activity link number for all on page\n",
    "        browser.implicitly_wait(3)\n",
    "        links = browser.find_elements_by_class_name('activity-link')\n",
    "        #extract activity id and store in list\n",
    "        pk_activity = []\n",
    "        for link in links:\n",
    "            a = link.get_attribute(\"id\")\n",
    "            b = a.split(\"-\")[-1]\n",
    "            pk_activity.append(\"https://www.strava.com/activities/{}/streams?stream_types%5B%5D=altitude&stream_types%5B%5D=heartrate&stream_types%5B%5D=cadence&stream_types%5B%5D=temp&stream_types%5B%5D=distance&stream_types%5B%5D=grade_smooth&stream_types%5B%5D=time&stream_types%5B%5D=grade_adjusted_distance&_=1538018467153\".format(b))\n",
    "\n",
    "    finally:\n",
    "        browser.quit()\n",
    "#         with open('activities_list.txt', 'w') as f:\n",
    "#             for item in pk_activity:\n",
    "#                 f.write(\"%s\\n\" % item)\n",
    "        \n",
    "get_json_links() # This gets all the links and writes a text file\n",
    "len(pk_activity)"
   ]
  },
  {
   "cell_type": "code",
   "execution_count": 63,
   "metadata": {},
   "outputs": [
    {
     "name": "stderr",
     "output_type": "stream",
     "text": [
      "  3%|▎         | 7/233 [00:21<11:57,  3.17s/it]"
     ]
    },
    {
     "name": "stdout",
     "output_type": "stream",
     "text": [
      "https://www.strava.com/activities/1850952249/streams?stream_types%5B%5D=altitude&stream_types%5B%5D=heartrate&stream_types%5B%5D=cadence&stream_types%5B%5D=temp&stream_types%5B%5D=distance&stream_types%5B%5D=grade_smooth&stream_types%5B%5D=time&stream_types%5B%5D=grade_adjusted_distance&_=1538018467153 Message: no such element: Unable to locate element: {\"method\":\"tag name\",\"selector\":\"pre\"}\n",
      "  (Session info: chrome=69.0.3497.100)\n",
      "  (Driver info: chromedriver=2.40.565386 (45a059dc425e08165f9a10324bd1\n"
     ]
    },
    {
     "name": "stderr",
     "output_type": "stream",
     "text": [
      "  9%|▉         | 21/233 [01:10<12:05,  3.42s/it]"
     ]
    },
    {
     "name": "stdout",
     "output_type": "stream",
     "text": [
      "https://www.strava.com/activities//streams?stream_types%5B%5D=altitude&stream_types%5B%5D=heartrate&stream_types%5B%5D=cadence&stream_types%5B%5D=temp&stream_types%5B%5D=distance&stream_types%5B%5D=grade_smooth&stream_types%5B%5D=time&stream_types%5B%5D=grade_adjusted_distance&_=1538018467153 list index out of range\n"
     ]
    },
    {
     "name": "stderr",
     "output_type": "stream",
     "text": [
      " 26%|██▌       | 60/233 [03:26<10:41,  3.71s/it]"
     ]
    },
    {
     "name": "stdout",
     "output_type": "stream",
     "text": [
      "https://www.strava.com/activities/1748033438/streams?stream_types%5B%5D=altitude&stream_types%5B%5D=heartrate&stream_types%5B%5D=cadence&stream_types%5B%5D=temp&stream_types%5B%5D=distance&stream_types%5B%5D=grade_smooth&stream_types%5B%5D=time&stream_types%5B%5D=grade_adjusted_distance&_=1538018467153 Message: no such element: Unable to locate element: {\"method\":\"tag name\",\"selector\":\"pre\"}\n",
      "  (Session info: chrome=69.0.3497.100)\n",
      "  (Driver info: chromedriver=2.40.565386 (45a059dc425e08165f9a10324bd1\n"
     ]
    },
    {
     "name": "stderr",
     "output_type": "stream",
     "text": [
      " 28%|██▊       | 65/233 [03:43<09:49,  3.51s/it]"
     ]
    },
    {
     "name": "stdout",
     "output_type": "stream",
     "text": [
      "https://www.strava.com/activities//streams?stream_types%5B%5D=altitude&stream_types%5B%5D=heartrate&stream_types%5B%5D=cadence&stream_types%5B%5D=temp&stream_types%5B%5D=distance&stream_types%5B%5D=grade_smooth&stream_types%5B%5D=time&stream_types%5B%5D=grade_adjusted_distance&_=1538018467153 list index out of range\n"
     ]
    },
    {
     "name": "stderr",
     "output_type": "stream",
     "text": [
      " 29%|██▉       | 68/233 [03:50<07:36,  2.77s/it]"
     ]
    },
    {
     "name": "stdout",
     "output_type": "stream",
     "text": [
      "https://www.strava.com/activities//streams?stream_types%5B%5D=altitude&stream_types%5B%5D=heartrate&stream_types%5B%5D=cadence&stream_types%5B%5D=temp&stream_types%5B%5D=distance&stream_types%5B%5D=grade_smooth&stream_types%5B%5D=time&stream_types%5B%5D=grade_adjusted_distance&_=1538018467153 list index out of range\n"
     ]
    },
    {
     "name": "stderr",
     "output_type": "stream",
     "text": [
      " 31%|███▏      | 73/233 [04:03<06:57,  2.61s/it]"
     ]
    },
    {
     "name": "stdout",
     "output_type": "stream",
     "text": [
      "https://www.strava.com/activities//streams?stream_types%5B%5D=altitude&stream_types%5B%5D=heartrate&stream_types%5B%5D=cadence&stream_types%5B%5D=temp&stream_types%5B%5D=distance&stream_types%5B%5D=grade_smooth&stream_types%5B%5D=time&stream_types%5B%5D=grade_adjusted_distance&_=1538018467153 list index out of range\n"
     ]
    },
    {
     "name": "stderr",
     "output_type": "stream",
     "text": [
      " 34%|███▍      | 79/233 [04:18<06:23,  2.49s/it]"
     ]
    },
    {
     "name": "stdout",
     "output_type": "stream",
     "text": [
      "https://www.strava.com/activities//streams?stream_types%5B%5D=altitude&stream_types%5B%5D=heartrate&stream_types%5B%5D=cadence&stream_types%5B%5D=temp&stream_types%5B%5D=distance&stream_types%5B%5D=grade_smooth&stream_types%5B%5D=time&stream_types%5B%5D=grade_adjusted_distance&_=1538018467153 list index out of range\n"
     ]
    },
    {
     "name": "stderr",
     "output_type": "stream",
     "text": [
      " 35%|███▌      | 82/233 [04:25<06:12,  2.47s/it]"
     ]
    },
    {
     "name": "stdout",
     "output_type": "stream",
     "text": [
      "https://www.strava.com/activities//streams?stream_types%5B%5D=altitude&stream_types%5B%5D=heartrate&stream_types%5B%5D=cadence&stream_types%5B%5D=temp&stream_types%5B%5D=distance&stream_types%5B%5D=grade_smooth&stream_types%5B%5D=time&stream_types%5B%5D=grade_adjusted_distance&_=1538018467153 list index out of range\n"
     ]
    },
    {
     "name": "stderr",
     "output_type": "stream",
     "text": [
      " 37%|███▋      | 87/233 [04:38<06:30,  2.67s/it]"
     ]
    },
    {
     "name": "stdout",
     "output_type": "stream",
     "text": [
      "https://www.strava.com/activities//streams?stream_types%5B%5D=altitude&stream_types%5B%5D=heartrate&stream_types%5B%5D=cadence&stream_types%5B%5D=temp&stream_types%5B%5D=distance&stream_types%5B%5D=grade_smooth&stream_types%5B%5D=time&stream_types%5B%5D=grade_adjusted_distance&_=1538018467153 list index out of range\n"
     ]
    },
    {
     "name": "stderr",
     "output_type": "stream",
     "text": [
      " 39%|███▊      | 90/233 [04:45<05:55,  2.49s/it]"
     ]
    },
    {
     "name": "stdout",
     "output_type": "stream",
     "text": [
      "https://www.strava.com/activities//streams?stream_types%5B%5D=altitude&stream_types%5B%5D=heartrate&stream_types%5B%5D=cadence&stream_types%5B%5D=temp&stream_types%5B%5D=distance&stream_types%5B%5D=grade_smooth&stream_types%5B%5D=time&stream_types%5B%5D=grade_adjusted_distance&_=1538018467153 list index out of range\n"
     ]
    },
    {
     "name": "stderr",
     "output_type": "stream",
     "text": [
      " 40%|████      | 94/233 [04:56<06:50,  2.95s/it]"
     ]
    },
    {
     "name": "stdout",
     "output_type": "stream",
     "text": [
      "https://www.strava.com/activities//streams?stream_types%5B%5D=altitude&stream_types%5B%5D=heartrate&stream_types%5B%5D=cadence&stream_types%5B%5D=temp&stream_types%5B%5D=distance&stream_types%5B%5D=grade_smooth&stream_types%5B%5D=time&stream_types%5B%5D=grade_adjusted_distance&_=1538018467153 list index out of range\n"
     ]
    },
    {
     "name": "stderr",
     "output_type": "stream",
     "text": [
      " 42%|████▏     | 98/233 [05:06<06:00,  2.67s/it]"
     ]
    },
    {
     "name": "stdout",
     "output_type": "stream",
     "text": [
      "https://www.strava.com/activities//streams?stream_types%5B%5D=altitude&stream_types%5B%5D=heartrate&stream_types%5B%5D=cadence&stream_types%5B%5D=temp&stream_types%5B%5D=distance&stream_types%5B%5D=grade_smooth&stream_types%5B%5D=time&stream_types%5B%5D=grade_adjusted_distance&_=1538018467153 list index out of range\n"
     ]
    },
    {
     "name": "stderr",
     "output_type": "stream",
     "text": [
      " 46%|████▋     | 108/233 [05:38<06:01,  2.89s/it]"
     ]
    },
    {
     "name": "stdout",
     "output_type": "stream",
     "text": [
      "https://www.strava.com/activities//streams?stream_types%5B%5D=altitude&stream_types%5B%5D=heartrate&stream_types%5B%5D=cadence&stream_types%5B%5D=temp&stream_types%5B%5D=distance&stream_types%5B%5D=grade_smooth&stream_types%5B%5D=time&stream_types%5B%5D=grade_adjusted_distance&_=1538018467153 list index out of range\n"
     ]
    },
    {
     "name": "stderr",
     "output_type": "stream",
     "text": [
      " 48%|████▊     | 112/233 [05:48<05:06,  2.54s/it]"
     ]
    },
    {
     "name": "stdout",
     "output_type": "stream",
     "text": [
      "https://www.strava.com/activities//streams?stream_types%5B%5D=altitude&stream_types%5B%5D=heartrate&stream_types%5B%5D=cadence&stream_types%5B%5D=temp&stream_types%5B%5D=distance&stream_types%5B%5D=grade_smooth&stream_types%5B%5D=time&stream_types%5B%5D=grade_adjusted_distance&_=1538018467153 list index out of range\n"
     ]
    },
    {
     "name": "stderr",
     "output_type": "stream",
     "text": [
      " 51%|█████     | 118/233 [06:03<05:06,  2.67s/it]"
     ]
    },
    {
     "name": "stdout",
     "output_type": "stream",
     "text": [
      "https://www.strava.com/activities//streams?stream_types%5B%5D=altitude&stream_types%5B%5D=heartrate&stream_types%5B%5D=cadence&stream_types%5B%5D=temp&stream_types%5B%5D=distance&stream_types%5B%5D=grade_smooth&stream_types%5B%5D=time&stream_types%5B%5D=grade_adjusted_distance&_=1538018467153 list index out of range\n"
     ]
    },
    {
     "name": "stderr",
     "output_type": "stream",
     "text": [
      " 53%|█████▎    | 123/233 [06:16<04:51,  2.65s/it]"
     ]
    },
    {
     "name": "stdout",
     "output_type": "stream",
     "text": [
      "https://www.strava.com/activities//streams?stream_types%5B%5D=altitude&stream_types%5B%5D=heartrate&stream_types%5B%5D=cadence&stream_types%5B%5D=temp&stream_types%5B%5D=distance&stream_types%5B%5D=grade_smooth&stream_types%5B%5D=time&stream_types%5B%5D=grade_adjusted_distance&_=1538018467153 list index out of range\n"
     ]
    },
    {
     "name": "stderr",
     "output_type": "stream",
     "text": [
      " 55%|█████▍    | 127/233 [06:26<04:36,  2.61s/it]"
     ]
    },
    {
     "name": "stdout",
     "output_type": "stream",
     "text": [
      "https://www.strava.com/activities//streams?stream_types%5B%5D=altitude&stream_types%5B%5D=heartrate&stream_types%5B%5D=cadence&stream_types%5B%5D=temp&stream_types%5B%5D=distance&stream_types%5B%5D=grade_smooth&stream_types%5B%5D=time&stream_types%5B%5D=grade_adjusted_distance&_=1538018467153 list index out of range\n"
     ]
    },
    {
     "name": "stderr",
     "output_type": "stream",
     "text": [
      " 56%|█████▌    | 131/233 [06:36<04:24,  2.60s/it]"
     ]
    },
    {
     "name": "stdout",
     "output_type": "stream",
     "text": [
      "https://www.strava.com/activities//streams?stream_types%5B%5D=altitude&stream_types%5B%5D=heartrate&stream_types%5B%5D=cadence&stream_types%5B%5D=temp&stream_types%5B%5D=distance&stream_types%5B%5D=grade_smooth&stream_types%5B%5D=time&stream_types%5B%5D=grade_adjusted_distance&_=1538018467153 list index out of range\n"
     ]
    },
    {
     "name": "stderr",
     "output_type": "stream",
     "text": [
      "\r",
      " 57%|█████▋    | 132/233 [06:38<04:04,  2.42s/it]"
     ]
    },
    {
     "name": "stdout",
     "output_type": "stream",
     "text": [
      "https://www.strava.com/activities/1617346429/streams?stream_types%5B%5D=altitude&stream_types%5B%5D=heartrate&stream_types%5B%5D=cadence&stream_types%5B%5D=temp&stream_types%5B%5D=distance&stream_types%5B%5D=grade_smooth&stream_types%5B%5D=time&stream_types%5B%5D=grade_adjusted_distance&_=1538018467153 Message: no such element: Unable to locate element: {\"method\":\"tag name\",\"selector\":\"pre\"}\n",
      "  (Session info: chrome=69.0.3497.100)\n",
      "  (Driver info: chromedriver=2.40.565386 (45a059dc425e08165f9a10324bd1\n"
     ]
    },
    {
     "name": "stderr",
     "output_type": "stream",
     "text": [
      " 58%|█████▊    | 134/233 [06:43<04:26,  2.69s/it]"
     ]
    },
    {
     "name": "stdout",
     "output_type": "stream",
     "text": [
      "https://www.strava.com/activities//streams?stream_types%5B%5D=altitude&stream_types%5B%5D=heartrate&stream_types%5B%5D=cadence&stream_types%5B%5D=temp&stream_types%5B%5D=distance&stream_types%5B%5D=grade_smooth&stream_types%5B%5D=time&stream_types%5B%5D=grade_adjusted_distance&_=1538018467153 list index out of range\n"
     ]
    },
    {
     "name": "stderr",
     "output_type": "stream",
     "text": [
      "\r",
      " 58%|█████▊    | 135/233 [06:45<04:03,  2.48s/it]"
     ]
    },
    {
     "name": "stdout",
     "output_type": "stream",
     "text": [
      "https://www.strava.com/activities/1619382302/streams?stream_types%5B%5D=altitude&stream_types%5B%5D=heartrate&stream_types%5B%5D=cadence&stream_types%5B%5D=temp&stream_types%5B%5D=distance&stream_types%5B%5D=grade_smooth&stream_types%5B%5D=time&stream_types%5B%5D=grade_adjusted_distance&_=1538018467153 Message: no such element: Unable to locate element: {\"method\":\"tag name\",\"selector\":\"pre\"}\n",
      "  (Session info: chrome=69.0.3497.100)\n",
      "  (Driver info: chromedriver=2.40.565386 (45a059dc425e08165f9a10324bd1\n"
     ]
    },
    {
     "name": "stderr",
     "output_type": "stream",
     "text": [
      " 59%|█████▉    | 137/233 [06:51<04:04,  2.55s/it]"
     ]
    },
    {
     "name": "stdout",
     "output_type": "stream",
     "text": [
      "https://www.strava.com/activities//streams?stream_types%5B%5D=altitude&stream_types%5B%5D=heartrate&stream_types%5B%5D=cadence&stream_types%5B%5D=temp&stream_types%5B%5D=distance&stream_types%5B%5D=grade_smooth&stream_types%5B%5D=time&stream_types%5B%5D=grade_adjusted_distance&_=1538018467153 list index out of range\n"
     ]
    },
    {
     "name": "stderr",
     "output_type": "stream",
     "text": [
      "\r",
      " 59%|█████▉    | 138/233 [06:53<03:46,  2.39s/it]"
     ]
    },
    {
     "name": "stdout",
     "output_type": "stream",
     "text": [
      "https://www.strava.com/activities/1621826072/streams?stream_types%5B%5D=altitude&stream_types%5B%5D=heartrate&stream_types%5B%5D=cadence&stream_types%5B%5D=temp&stream_types%5B%5D=distance&stream_types%5B%5D=grade_smooth&stream_types%5B%5D=time&stream_types%5B%5D=grade_adjusted_distance&_=1538018467153 Message: no such element: Unable to locate element: {\"method\":\"tag name\",\"selector\":\"pre\"}\n",
      "  (Session info: chrome=69.0.3497.100)\n",
      "  (Driver info: chromedriver=2.40.565386 (45a059dc425e08165f9a10324bd1\n"
     ]
    },
    {
     "name": "stderr",
     "output_type": "stream",
     "text": [
      " 61%|██████    | 141/233 [07:01<03:50,  2.51s/it]"
     ]
    },
    {
     "name": "stdout",
     "output_type": "stream",
     "text": [
      "https://www.strava.com/activities//streams?stream_types%5B%5D=altitude&stream_types%5B%5D=heartrate&stream_types%5B%5D=cadence&stream_types%5B%5D=temp&stream_types%5B%5D=distance&stream_types%5B%5D=grade_smooth&stream_types%5B%5D=time&stream_types%5B%5D=grade_adjusted_distance&_=1538018467153 list index out of range\n"
     ]
    },
    {
     "name": "stderr",
     "output_type": "stream",
     "text": [
      " 62%|██████▏   | 144/233 [07:08<03:33,  2.40s/it]"
     ]
    },
    {
     "name": "stdout",
     "output_type": "stream",
     "text": [
      "https://www.strava.com/activities//streams?stream_types%5B%5D=altitude&stream_types%5B%5D=heartrate&stream_types%5B%5D=cadence&stream_types%5B%5D=temp&stream_types%5B%5D=distance&stream_types%5B%5D=grade_smooth&stream_types%5B%5D=time&stream_types%5B%5D=grade_adjusted_distance&_=1538018467153 list index out of range\n"
     ]
    },
    {
     "name": "stderr",
     "output_type": "stream",
     "text": [
      " 67%|██████▋   | 157/233 [07:41<03:12,  2.53s/it]"
     ]
    },
    {
     "name": "stdout",
     "output_type": "stream",
     "text": [
      "https://www.strava.com/activities//streams?stream_types%5B%5D=altitude&stream_types%5B%5D=heartrate&stream_types%5B%5D=cadence&stream_types%5B%5D=temp&stream_types%5B%5D=distance&stream_types%5B%5D=grade_smooth&stream_types%5B%5D=time&stream_types%5B%5D=grade_adjusted_distance&_=1538018467153 list index out of range\n"
     ]
    },
    {
     "name": "stderr",
     "output_type": "stream",
     "text": [
      " 72%|███████▏  | 167/233 [08:06<02:57,  2.69s/it]"
     ]
    },
    {
     "name": "stdout",
     "output_type": "stream",
     "text": [
      "https://www.strava.com/activities//streams?stream_types%5B%5D=altitude&stream_types%5B%5D=heartrate&stream_types%5B%5D=cadence&stream_types%5B%5D=temp&stream_types%5B%5D=distance&stream_types%5B%5D=grade_smooth&stream_types%5B%5D=time&stream_types%5B%5D=grade_adjusted_distance&_=1538018467153 list index out of range\n"
     ]
    },
    {
     "name": "stderr",
     "output_type": "stream",
     "text": [
      " 73%|███████▎  | 170/233 [08:14<02:46,  2.64s/it]"
     ]
    },
    {
     "name": "stdout",
     "output_type": "stream",
     "text": [
      "https://www.strava.com/activities//streams?stream_types%5B%5D=altitude&stream_types%5B%5D=heartrate&stream_types%5B%5D=cadence&stream_types%5B%5D=temp&stream_types%5B%5D=distance&stream_types%5B%5D=grade_smooth&stream_types%5B%5D=time&stream_types%5B%5D=grade_adjusted_distance&_=1538018467153 list index out of range\n"
     ]
    },
    {
     "name": "stderr",
     "output_type": "stream",
     "text": [
      " 74%|███████▍  | 173/233 [08:21<02:36,  2.60s/it]"
     ]
    },
    {
     "name": "stdout",
     "output_type": "stream",
     "text": [
      "https://www.strava.com/activities//streams?stream_types%5B%5D=altitude&stream_types%5B%5D=heartrate&stream_types%5B%5D=cadence&stream_types%5B%5D=temp&stream_types%5B%5D=distance&stream_types%5B%5D=grade_smooth&stream_types%5B%5D=time&stream_types%5B%5D=grade_adjusted_distance&_=1538018467153 list index out of range\n"
     ]
    },
    {
     "name": "stderr",
     "output_type": "stream",
     "text": [
      " 76%|███████▌  | 176/233 [08:29<02:33,  2.69s/it]"
     ]
    },
    {
     "name": "stdout",
     "output_type": "stream",
     "text": [
      "https://www.strava.com/activities//streams?stream_types%5B%5D=altitude&stream_types%5B%5D=heartrate&stream_types%5B%5D=cadence&stream_types%5B%5D=temp&stream_types%5B%5D=distance&stream_types%5B%5D=grade_smooth&stream_types%5B%5D=time&stream_types%5B%5D=grade_adjusted_distance&_=1538018467153 list index out of range\n"
     ]
    },
    {
     "name": "stderr",
     "output_type": "stream",
     "text": [
      " 77%|███████▋  | 179/233 [08:37<02:30,  2.78s/it]"
     ]
    },
    {
     "name": "stdout",
     "output_type": "stream",
     "text": [
      "https://www.strava.com/activities//streams?stream_types%5B%5D=altitude&stream_types%5B%5D=heartrate&stream_types%5B%5D=cadence&stream_types%5B%5D=temp&stream_types%5B%5D=distance&stream_types%5B%5D=grade_smooth&stream_types%5B%5D=time&stream_types%5B%5D=grade_adjusted_distance&_=1538018467153 list index out of range\n"
     ]
    },
    {
     "name": "stderr",
     "output_type": "stream",
     "text": [
      " 78%|███████▊  | 182/233 [08:45<02:21,  2.77s/it]"
     ]
    },
    {
     "name": "stdout",
     "output_type": "stream",
     "text": [
      "https://www.strava.com/activities//streams?stream_types%5B%5D=altitude&stream_types%5B%5D=heartrate&stream_types%5B%5D=cadence&stream_types%5B%5D=temp&stream_types%5B%5D=distance&stream_types%5B%5D=grade_smooth&stream_types%5B%5D=time&stream_types%5B%5D=grade_adjusted_distance&_=1538018467153 list index out of range\n"
     ]
    },
    {
     "name": "stderr",
     "output_type": "stream",
     "text": [
      " 79%|███████▉  | 185/233 [08:53<02:08,  2.68s/it]"
     ]
    },
    {
     "name": "stdout",
     "output_type": "stream",
     "text": [
      "https://www.strava.com/activities//streams?stream_types%5B%5D=altitude&stream_types%5B%5D=heartrate&stream_types%5B%5D=cadence&stream_types%5B%5D=temp&stream_types%5B%5D=distance&stream_types%5B%5D=grade_smooth&stream_types%5B%5D=time&stream_types%5B%5D=grade_adjusted_distance&_=1538018467153 list index out of range\n"
     ]
    },
    {
     "name": "stderr",
     "output_type": "stream",
     "text": [
      " 81%|████████  | 188/233 [09:00<01:58,  2.62s/it]"
     ]
    },
    {
     "name": "stdout",
     "output_type": "stream",
     "text": [
      "https://www.strava.com/activities//streams?stream_types%5B%5D=altitude&stream_types%5B%5D=heartrate&stream_types%5B%5D=cadence&stream_types%5B%5D=temp&stream_types%5B%5D=distance&stream_types%5B%5D=grade_smooth&stream_types%5B%5D=time&stream_types%5B%5D=grade_adjusted_distance&_=1538018467153 list index out of range\n"
     ]
    },
    {
     "name": "stderr",
     "output_type": "stream",
     "text": [
      " 82%|████████▏ | 191/233 [09:08<01:53,  2.71s/it]"
     ]
    },
    {
     "name": "stdout",
     "output_type": "stream",
     "text": [
      "https://www.strava.com/activities//streams?stream_types%5B%5D=altitude&stream_types%5B%5D=heartrate&stream_types%5B%5D=cadence&stream_types%5B%5D=temp&stream_types%5B%5D=distance&stream_types%5B%5D=grade_smooth&stream_types%5B%5D=time&stream_types%5B%5D=grade_adjusted_distance&_=1538018467153 list index out of range\n"
     ]
    },
    {
     "name": "stderr",
     "output_type": "stream",
     "text": [
      " 83%|████████▎ | 194/233 [09:16<01:45,  2.69s/it]"
     ]
    },
    {
     "name": "stdout",
     "output_type": "stream",
     "text": [
      "https://www.strava.com/activities//streams?stream_types%5B%5D=altitude&stream_types%5B%5D=heartrate&stream_types%5B%5D=cadence&stream_types%5B%5D=temp&stream_types%5B%5D=distance&stream_types%5B%5D=grade_smooth&stream_types%5B%5D=time&stream_types%5B%5D=grade_adjusted_distance&_=1538018467153 list index out of range\n"
     ]
    },
    {
     "name": "stderr",
     "output_type": "stream",
     "text": [
      " 85%|████████▍ | 197/233 [09:25<01:47,  2.98s/it]"
     ]
    },
    {
     "name": "stdout",
     "output_type": "stream",
     "text": [
      "https://www.strava.com/activities//streams?stream_types%5B%5D=altitude&stream_types%5B%5D=heartrate&stream_types%5B%5D=cadence&stream_types%5B%5D=temp&stream_types%5B%5D=distance&stream_types%5B%5D=grade_smooth&stream_types%5B%5D=time&stream_types%5B%5D=grade_adjusted_distance&_=1538018467153 list index out of range\n"
     ]
    },
    {
     "name": "stderr",
     "output_type": "stream",
     "text": [
      " 86%|████████▌ | 200/233 [09:33<01:31,  2.78s/it]"
     ]
    },
    {
     "name": "stdout",
     "output_type": "stream",
     "text": [
      "https://www.strava.com/activities//streams?stream_types%5B%5D=altitude&stream_types%5B%5D=heartrate&stream_types%5B%5D=cadence&stream_types%5B%5D=temp&stream_types%5B%5D=distance&stream_types%5B%5D=grade_smooth&stream_types%5B%5D=time&stream_types%5B%5D=grade_adjusted_distance&_=1538018467153 list index out of range\n"
     ]
    },
    {
     "name": "stderr",
     "output_type": "stream",
     "text": [
      " 87%|████████▋ | 203/233 [09:42<01:33,  3.11s/it]"
     ]
    },
    {
     "name": "stdout",
     "output_type": "stream",
     "text": [
      "https://www.strava.com/activities//streams?stream_types%5B%5D=altitude&stream_types%5B%5D=heartrate&stream_types%5B%5D=cadence&stream_types%5B%5D=temp&stream_types%5B%5D=distance&stream_types%5B%5D=grade_smooth&stream_types%5B%5D=time&stream_types%5B%5D=grade_adjusted_distance&_=1538018467153 list index out of range\n"
     ]
    },
    {
     "name": "stderr",
     "output_type": "stream",
     "text": [
      " 88%|████████▊ | 206/233 [09:49<01:12,  2.68s/it]"
     ]
    },
    {
     "name": "stdout",
     "output_type": "stream",
     "text": [
      "https://www.strava.com/activities//streams?stream_types%5B%5D=altitude&stream_types%5B%5D=heartrate&stream_types%5B%5D=cadence&stream_types%5B%5D=temp&stream_types%5B%5D=distance&stream_types%5B%5D=grade_smooth&stream_types%5B%5D=time&stream_types%5B%5D=grade_adjusted_distance&_=1538018467153 list index out of range\n"
     ]
    },
    {
     "name": "stderr",
     "output_type": "stream",
     "text": [
      " 90%|████████▉ | 209/233 [09:57<01:03,  2.63s/it]"
     ]
    },
    {
     "name": "stdout",
     "output_type": "stream",
     "text": [
      "https://www.strava.com/activities//streams?stream_types%5B%5D=altitude&stream_types%5B%5D=heartrate&stream_types%5B%5D=cadence&stream_types%5B%5D=temp&stream_types%5B%5D=distance&stream_types%5B%5D=grade_smooth&stream_types%5B%5D=time&stream_types%5B%5D=grade_adjusted_distance&_=1538018467153 list index out of range\n"
     ]
    },
    {
     "name": "stderr",
     "output_type": "stream",
     "text": [
      " 91%|█████████▏| 213/233 [10:07<00:52,  2.62s/it]"
     ]
    },
    {
     "name": "stdout",
     "output_type": "stream",
     "text": [
      "https://www.strava.com/activities//streams?stream_types%5B%5D=altitude&stream_types%5B%5D=heartrate&stream_types%5B%5D=cadence&stream_types%5B%5D=temp&stream_types%5B%5D=distance&stream_types%5B%5D=grade_smooth&stream_types%5B%5D=time&stream_types%5B%5D=grade_adjusted_distance&_=1538018467153 list index out of range\n"
     ]
    },
    {
     "name": "stderr",
     "output_type": "stream",
     "text": [
      " 93%|█████████▎| 217/233 [10:18<00:44,  2.76s/it]"
     ]
    },
    {
     "name": "stdout",
     "output_type": "stream",
     "text": [
      "https://www.strava.com/activities//streams?stream_types%5B%5D=altitude&stream_types%5B%5D=heartrate&stream_types%5B%5D=cadence&stream_types%5B%5D=temp&stream_types%5B%5D=distance&stream_types%5B%5D=grade_smooth&stream_types%5B%5D=time&stream_types%5B%5D=grade_adjusted_distance&_=1538018467153 list index out of range\n"
     ]
    },
    {
     "name": "stderr",
     "output_type": "stream",
     "text": [
      " 95%|█████████▌| 222/233 [10:32<00:31,  2.83s/it]"
     ]
    },
    {
     "name": "stdout",
     "output_type": "stream",
     "text": [
      "https://www.strava.com/activities//streams?stream_types%5B%5D=altitude&stream_types%5B%5D=heartrate&stream_types%5B%5D=cadence&stream_types%5B%5D=temp&stream_types%5B%5D=distance&stream_types%5B%5D=grade_smooth&stream_types%5B%5D=time&stream_types%5B%5D=grade_adjusted_distance&_=1538018467153 list index out of range\n"
     ]
    },
    {
     "name": "stderr",
     "output_type": "stream",
     "text": [
      " 97%|█████████▋| 226/233 [10:43<00:18,  2.68s/it]"
     ]
    },
    {
     "name": "stdout",
     "output_type": "stream",
     "text": [
      "https://www.strava.com/activities//streams?stream_types%5B%5D=altitude&stream_types%5B%5D=heartrate&stream_types%5B%5D=cadence&stream_types%5B%5D=temp&stream_types%5B%5D=distance&stream_types%5B%5D=grade_smooth&stream_types%5B%5D=time&stream_types%5B%5D=grade_adjusted_distance&_=1538018467153 list index out of range\n"
     ]
    },
    {
     "name": "stderr",
     "output_type": "stream",
     "text": [
      " 98%|█████████▊| 229/233 [10:50<00:10,  2.65s/it]"
     ]
    },
    {
     "name": "stdout",
     "output_type": "stream",
     "text": [
      "https://www.strava.com/activities//streams?stream_types%5B%5D=altitude&stream_types%5B%5D=heartrate&stream_types%5B%5D=cadence&stream_types%5B%5D=temp&stream_types%5B%5D=distance&stream_types%5B%5D=grade_smooth&stream_types%5B%5D=time&stream_types%5B%5D=grade_adjusted_distance&_=1538018467153 list index out of range\n"
     ]
    },
    {
     "name": "stderr",
     "output_type": "stream",
     "text": [
      "100%|██████████| 233/233 [11:00<00:00,  2.59s/it]\n"
     ]
    }
   ],
   "source": [
    "# Carly - check this out\n",
    "\n",
    "def get_json_activity_data(rows_for_iteration):\n",
    "    try:\n",
    "        # This is how we'll save the json_locally\n",
    "        \n",
    "        browser = webdriver.Chrome() \n",
    "        browser.get(pete) #navigate to the page - this page actually has a diff login than homepage\n",
    "        # So I'll continue to use it since it matches your below code\n",
    "\n",
    "        username = browser.find_element_by_id('email')\n",
    "        username.clear()\n",
    "        username.send_keys(username_c)\n",
    "\n",
    "        password = browser.find_element_by_id('password')\n",
    "        password.clear()\n",
    "        password.send_keys(strava_pw)\n",
    "\n",
    "        browser.find_element_by_id(\"login-button\").click()\n",
    "\n",
    "        time.sleep(5) # wait, since it takes a second to get all set-up\n",
    "        \n",
    "        \n",
    "        for row in tqdm(rows_for_iteration):\n",
    "            try:\n",
    "                save_json_filename = re.findall('activities\\/\\d{5,}', row)[0].split(\"/\")[-1] + \".json\"\n",
    "                browser.get(row)\n",
    "                pre = browser.find_element_by_tag_name(\"pre\").text\n",
    "                data = json.loads(pre)\n",
    "                with open(save_json_filename, 'w') as f:\n",
    "                    f.write(json.dumps(data))\n",
    "                time.sleep(2)\n",
    "            except Exception as e:\n",
    "                print(row, str(e)[:200])\n",
    "                time.sleep(2)\n",
    "    \n",
    "    finally:\n",
    "        browser.quit()\n",
    "        \n",
    "get_json_activity_data(pk_activity)"
   ]
  },
  {
   "cell_type": "code",
   "execution_count": 65,
   "metadata": {},
   "outputs": [
    {
     "name": "stdout",
     "output_type": "stream",
     "text": [
      "     187\r\n"
     ]
    }
   ],
   "source": [
    "%ls | grep json | wc -l\n",
    "# 187 json files"
   ]
  },
  {
   "cell_type": "code",
   "execution_count": 68,
   "metadata": {},
   "outputs": [
    {
     "data": {
      "text/plain": [
       "['1617775122.json',\n",
       " '1618343188.json',\n",
       " '1620579428.json',\n",
       " '1623905128.json',\n",
       " '1624830078.json']"
      ]
     },
     "execution_count": 68,
     "metadata": {},
     "output_type": "execute_result"
    }
   ],
   "source": [
    "# create a similar function here to login, wait and then get the date of the activity by ID\n",
    "import glob\n",
    "\n",
    "json_files = glob.glob('*.json')\n",
    "json_files[:5]\n",
    "\n",
    "def get_date_info():\n",
    "    # login get the driver object blah blah\n",
    "    \n",
    "    date_mapping = {}\n",
    "    # iterate over all the json files\n",
    "    # store an entry for date_mapping[file_id] = the_date you parse from the page\n",
    "    # store the dictionary as a json file"
   ]
  },
  {
   "cell_type": "code",
   "execution_count": null,
   "metadata": {},
   "outputs": [],
   "source": []
  },
  {
   "cell_type": "code",
   "execution_count": null,
   "metadata": {},
   "outputs": [],
   "source": []
  },
  {
   "cell_type": "code",
   "execution_count": 28,
   "metadata": {},
   "outputs": [],
   "source": [
    "\n"
   ]
  },
  {
   "cell_type": "code",
   "execution_count": null,
   "metadata": {},
   "outputs": [],
   "source": []
  },
  {
   "cell_type": "code",
   "execution_count": 32,
   "metadata": {},
   "outputs": [],
   "source": []
  },
  {
   "cell_type": "code",
   "execution_count": null,
   "metadata": {},
   "outputs": [],
   "source": []
  },
  {
   "cell_type": "code",
   "execution_count": null,
   "metadata": {},
   "outputs": [],
   "source": []
  }
 ],
 "metadata": {
  "kernelspec": {
   "display_name": "Python 3",
   "language": "python",
   "name": "python3"
  },
  "language_info": {
   "codemirror_mode": {
    "name": "ipython",
    "version": 3
   },
   "file_extension": ".py",
   "mimetype": "text/x-python",
   "name": "python",
   "nbconvert_exporter": "python",
   "pygments_lexer": "ipython3",
   "version": "3.6.4"
  }
 },
 "nbformat": 4,
 "nbformat_minor": 2
}
