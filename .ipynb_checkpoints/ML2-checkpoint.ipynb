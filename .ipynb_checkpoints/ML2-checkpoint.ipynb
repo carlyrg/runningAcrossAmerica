{
 "cells": [
  {
   "cell_type": "code",
   "execution_count": 1,
   "metadata": {},
   "outputs": [
    {
     "data": {
      "text/plain": [
       "LinearRegression(copy_X=True, fit_intercept=True, n_jobs=1, normalize=False)"
      ]
     },
     "execution_count": 1,
     "metadata": {},
     "output_type": "execute_result"
    }
   ],
   "source": [
    "# Import dependencies\n",
    "from sklearn.datasets import make_regression\n",
    "from sklearn.linear_model import LinearRegression\n",
    "\n",
    "# Generate some data\n",
    "X, y = make_regression(n_samples=20, n_features=1, random_state=0, noise=4, bias=100.0)\n",
    "\n",
    "# Create a linear model\n",
    "model = LinearRegression()\n",
    "\n",
    "# Fit (Train) our model to the data\n",
    "model.fit(X, y)"
   ]
  },
  {
   "cell_type": "code",
   "execution_count": 2,
   "metadata": {},
   "outputs": [
    {
     "name": "stdout",
     "output_type": "stream",
     "text": [
      "Mean Squared Error (MSE): 11.933040779746149\n",
      "R-squared (R2 ): 0.903603363418708\n"
     ]
    }
   ],
   "source": [
    "from sklearn.metrics import mean_squared_error, r2_score\n",
    "\n",
    "# Use our model to predict a value\n",
    "predicted = model.predict(X)\n",
    "\n",
    "# Score the prediction with mse and r2\n",
    "mse = mean_squared_error(y, predicted)\n",
    "r2 = r2_score(y, predicted)\n",
    "\n",
    "print(f\"Mean Squared Error (MSE): {mse}\")\n",
    "print(f\"R-squared (R2 ): {r2}\")\n",
    "\n",
    "#A \"good\" MSE score will be close to zero while a \"good\" [R2 Score]will be close to 1."
   ]
  },
  {
   "cell_type": "code",
   "execution_count": 3,
   "metadata": {},
   "outputs": [
    {
     "data": {
      "text/plain": [
       "0.903603363418708"
      ]
     },
     "execution_count": 3,
     "metadata": {},
     "output_type": "execute_result"
    }
   ],
   "source": [
    "# Overall Score for the model\n",
    "model.score(X, y)"
   ]
  },
  {
   "cell_type": "markdown",
   "metadata": {},
   "source": []
  },
  {
   "cell_type": "code",
   "execution_count": null,
   "metadata": {},
   "outputs": [],
   "source": [
    "from sklearn.model_selection import train_test_split\n",
    "\n",
    "# default is 75% for train, 25% for testing\n",
    "X_train, X_test, y_train, y_test = train_test_split(X, y, random_state=42)"
   ]
  },
  {
   "cell_type": "code",
   "execution_count": null,
   "metadata": {},
   "outputs": [],
   "source": []
  },
  {
   "cell_type": "code",
   "execution_count": 3,
   "metadata": {},
   "outputs": [
    {
     "data": {
      "text/plain": [
       "Unnamed: 0          int64\n",
       " Activity Name     object\n",
       "Start              object\n",
       "Distance          float64\n",
       "Time               object\n",
       "Elevation Loss      int64\n",
       "Avg Pace          float64\n",
       "Elevation Gain      int64\n",
       "Steps               int64\n",
       "Avg Temp          float64\n",
       "Net Elevation       int64\n",
       "mph               float64\n",
       "dtype: object"
      ]
     },
     "execution_count": 3,
     "metadata": {},
     "output_type": "execute_result"
    }
   ],
   "source": [
    "df = pd.read_csv('jason_garmin_details.csv')\n",
    "df.apply(pd.to_numeric, errors='ignore')\n",
    "df.dtypes"
   ]
  },
  {
   "cell_type": "code",
   "execution_count": 4,
   "metadata": {},
   "outputs": [
    {
     "data": {
      "text/html": [
       "<div>\n",
       "<style>\n",
       "    .dataframe thead tr:only-child th {\n",
       "        text-align: right;\n",
       "    }\n",
       "\n",
       "    .dataframe thead th {\n",
       "        text-align: left;\n",
       "    }\n",
       "\n",
       "    .dataframe tbody tr th {\n",
       "        vertical-align: top;\n",
       "    }\n",
       "</style>\n",
       "<table border=\"1\" class=\"dataframe\">\n",
       "  <thead>\n",
       "    <tr style=\"text-align: right;\">\n",
       "      <th></th>\n",
       "      <th>Unnamed: 0</th>\n",
       "      <th>Distance</th>\n",
       "      <th>Elevation Loss</th>\n",
       "      <th>Avg Pace</th>\n",
       "      <th>Elevation Gain</th>\n",
       "      <th>Steps</th>\n",
       "      <th>Avg Temp</th>\n",
       "      <th>Net Elevation</th>\n",
       "      <th>mph</th>\n",
       "    </tr>\n",
       "  </thead>\n",
       "  <tbody>\n",
       "    <tr>\n",
       "      <th>Unnamed: 0</th>\n",
       "      <td>1.000000</td>\n",
       "      <td>-0.401883</td>\n",
       "      <td>-0.321723</td>\n",
       "      <td>0.020851</td>\n",
       "      <td>-0.160307</td>\n",
       "      <td>-0.497325</td>\n",
       "      <td>0.261760</td>\n",
       "      <td>0.161100</td>\n",
       "      <td>0.092245</td>\n",
       "    </tr>\n",
       "    <tr>\n",
       "      <th>Distance</th>\n",
       "      <td>-0.401883</td>\n",
       "      <td>1.000000</td>\n",
       "      <td>0.284709</td>\n",
       "      <td>-0.112556</td>\n",
       "      <td>0.244497</td>\n",
       "      <td>0.944697</td>\n",
       "      <td>-0.208662</td>\n",
       "      <td>0.000236</td>\n",
       "      <td>0.031258</td>\n",
       "    </tr>\n",
       "    <tr>\n",
       "      <th>Elevation Loss</th>\n",
       "      <td>-0.321723</td>\n",
       "      <td>0.284709</td>\n",
       "      <td>1.000000</td>\n",
       "      <td>0.141369</td>\n",
       "      <td>0.710765</td>\n",
       "      <td>0.277423</td>\n",
       "      <td>-0.002404</td>\n",
       "      <td>-0.205090</td>\n",
       "      <td>-0.126330</td>\n",
       "    </tr>\n",
       "    <tr>\n",
       "      <th>Avg Pace</th>\n",
       "      <td>0.020851</td>\n",
       "      <td>-0.112556</td>\n",
       "      <td>0.141369</td>\n",
       "      <td>1.000000</td>\n",
       "      <td>0.061543</td>\n",
       "      <td>-0.076509</td>\n",
       "      <td>0.274872</td>\n",
       "      <td>-0.083170</td>\n",
       "      <td>-0.886724</td>\n",
       "    </tr>\n",
       "    <tr>\n",
       "      <th>Elevation Gain</th>\n",
       "      <td>-0.160307</td>\n",
       "      <td>0.244497</td>\n",
       "      <td>0.710765</td>\n",
       "      <td>0.061543</td>\n",
       "      <td>1.000000</td>\n",
       "      <td>0.224145</td>\n",
       "      <td>0.110781</td>\n",
       "      <td>0.542707</td>\n",
       "      <td>0.004265</td>\n",
       "    </tr>\n",
       "    <tr>\n",
       "      <th>Steps</th>\n",
       "      <td>-0.497325</td>\n",
       "      <td>0.944697</td>\n",
       "      <td>0.277423</td>\n",
       "      <td>-0.076509</td>\n",
       "      <td>0.224145</td>\n",
       "      <td>1.000000</td>\n",
       "      <td>-0.249909</td>\n",
       "      <td>-0.019381</td>\n",
       "      <td>-0.022287</td>\n",
       "    </tr>\n",
       "    <tr>\n",
       "      <th>Avg Temp</th>\n",
       "      <td>0.261760</td>\n",
       "      <td>-0.208662</td>\n",
       "      <td>-0.002404</td>\n",
       "      <td>0.274872</td>\n",
       "      <td>0.110781</td>\n",
       "      <td>-0.249909</td>\n",
       "      <td>1.000000</td>\n",
       "      <td>0.157009</td>\n",
       "      <td>-0.217815</td>\n",
       "    </tr>\n",
       "    <tr>\n",
       "      <th>Net Elevation</th>\n",
       "      <td>0.161100</td>\n",
       "      <td>0.000236</td>\n",
       "      <td>-0.205090</td>\n",
       "      <td>-0.083170</td>\n",
       "      <td>0.542707</td>\n",
       "      <td>-0.019381</td>\n",
       "      <td>0.157009</td>\n",
       "      <td>1.000000</td>\n",
       "      <td>0.156777</td>\n",
       "    </tr>\n",
       "    <tr>\n",
       "      <th>mph</th>\n",
       "      <td>0.092245</td>\n",
       "      <td>0.031258</td>\n",
       "      <td>-0.126330</td>\n",
       "      <td>-0.886724</td>\n",
       "      <td>0.004265</td>\n",
       "      <td>-0.022287</td>\n",
       "      <td>-0.217815</td>\n",
       "      <td>0.156777</td>\n",
       "      <td>1.000000</td>\n",
       "    </tr>\n",
       "  </tbody>\n",
       "</table>\n",
       "</div>"
      ],
      "text/plain": [
       "                Unnamed: 0  Distance  Elevation Loss  Avg Pace  \\\n",
       "Unnamed: 0        1.000000 -0.401883       -0.321723  0.020851   \n",
       "Distance         -0.401883  1.000000        0.284709 -0.112556   \n",
       "Elevation Loss   -0.321723  0.284709        1.000000  0.141369   \n",
       "Avg Pace          0.020851 -0.112556        0.141369  1.000000   \n",
       "Elevation Gain   -0.160307  0.244497        0.710765  0.061543   \n",
       "Steps            -0.497325  0.944697        0.277423 -0.076509   \n",
       "Avg Temp          0.261760 -0.208662       -0.002404  0.274872   \n",
       "Net Elevation     0.161100  0.000236       -0.205090 -0.083170   \n",
       "mph               0.092245  0.031258       -0.126330 -0.886724   \n",
       "\n",
       "                Elevation Gain     Steps  Avg Temp  Net Elevation       mph  \n",
       "Unnamed: 0           -0.160307 -0.497325  0.261760       0.161100  0.092245  \n",
       "Distance              0.244497  0.944697 -0.208662       0.000236  0.031258  \n",
       "Elevation Loss        0.710765  0.277423 -0.002404      -0.205090 -0.126330  \n",
       "Avg Pace              0.061543 -0.076509  0.274872      -0.083170 -0.886724  \n",
       "Elevation Gain        1.000000  0.224145  0.110781       0.542707  0.004265  \n",
       "Steps                 0.224145  1.000000 -0.249909      -0.019381 -0.022287  \n",
       "Avg Temp              0.110781 -0.249909  1.000000       0.157009 -0.217815  \n",
       "Net Elevation         0.542707 -0.019381  0.157009       1.000000  0.156777  \n",
       "mph                   0.004265 -0.022287 -0.217815       0.156777  1.000000  "
      ]
     },
     "execution_count": 4,
     "metadata": {},
     "output_type": "execute_result"
    }
   ],
   "source": [
    "df.corr()"
   ]
  },
  {
   "cell_type": "code",
   "execution_count": 7,
   "metadata": {},
   "outputs": [],
   "source": [
    "from sklearn.model_selection import train_test_split\n",
    "train_set, test_set = train_test_split(df,test_size=0.2,random_state=42)"
   ]
  },
  {
   "cell_type": "code",
   "execution_count": 12,
   "metadata": {},
   "outputs": [
    {
     "data": {
      "text/plain": [
       "LinearRegression(copy_X=True, fit_intercept=True, n_jobs=1, normalize=False)"
      ]
     },
     "execution_count": 12,
     "metadata": {},
     "output_type": "execute_result"
    }
   ],
   "source": [
    "from sklearn.linear_model import LinearRegression\n",
    "lin_reg = LinearRegression()\n",
    "X = train_set[['Distance','Avg Temp','Net Elevation']]\n",
    "y = train_set['mph']\n",
    "lin_reg.fit(X,y)"
   ]
  },
  {
   "cell_type": "code",
   "execution_count": 13,
   "metadata": {},
   "outputs": [
    {
     "data": {
      "text/plain": [
       "0    -0.314769\n",
       "5    -0.871913\n",
       "46    3.890521\n",
       "31   -0.930099\n",
       "13    2.098432\n",
       "55   -0.294698\n",
       "34    3.906284\n",
       "49    3.640183\n",
       "12    0.632404\n",
       "40   -2.750280\n",
       "33    2.177590\n",
       "59    1.003792\n",
       "16    1.911303\n",
       "Name: mph, dtype: float64"
      ]
     },
     "execution_count": 13,
     "metadata": {},
     "output_type": "execute_result"
    }
   ],
   "source": [
    "predictions = lin_reg.predict(test_set[['Distance','Avg Temp','Net Elevation']])\n",
    "predictions - test_set['mph']"
   ]
  },
  {
   "cell_type": "code",
   "execution_count": 14,
   "metadata": {},
   "outputs": [
    {
     "data": {
      "text/plain": [
       "2.274056906173203"
      ]
     },
     "execution_count": 14,
     "metadata": {},
     "output_type": "execute_result"
    }
   ],
   "source": [
    "from sklearn.metrics import mean_squared_error\n",
    "mse = mean_squared_error(predictions,test_set['mph'])\n",
    "rms = np.sqrt(mse)\n",
    "rms"
   ]
  },
  {
   "cell_type": "code",
   "execution_count": 20,
   "metadata": {},
   "outputs": [
    {
     "data": {
      "text/plain": [
       "(0.141045087254867, 0.645793710047652)"
      ]
     },
     "execution_count": 20,
     "metadata": {},
     "output_type": "execute_result"
    }
   ],
   "source": [
    "from scipy.stats import pearsonr\n",
    "pearsonr(predictions, test_set['mph'])"
   ]
  },
  {
   "cell_type": "code",
   "execution_count": 15,
   "metadata": {},
   "outputs": [
    {
     "data": {
      "text/plain": [
       "(29.916701404543545, array([-0.02627161, -0.31214735,  0.0023147 ]))"
      ]
     },
     "execution_count": 15,
     "metadata": {},
     "output_type": "execute_result"
    }
   ],
   "source": [
    "# model coefficients to evaluate impact of each of the features tested\n",
    "lin_reg.intercept_,lin_reg.coef_"
   ]
  },
  {
   "cell_type": "code",
   "execution_count": 16,
   "metadata": {},
   "outputs": [
    {
     "data": {
      "text/plain": [
       "array([ 4.18634455,  6.48619687, 15.26569972,  4.83826646,  2.0457644 ])"
      ]
     },
     "execution_count": 16,
     "metadata": {},
     "output_type": "execute_result"
    }
   ],
   "source": [
    "#shuffle the data to perform cross validation\n",
    "# to do the shuffling use numpy permutation function to make randomly permuted list of indicies, \n",
    "# pass that list into pandas iloc function to shuffle rows of original dataset\n",
    "\n",
    "from sklearn.model_selection import cross_val_score\n",
    "shuffled_indices = np.random.permutation(len(df))\n",
    "shuffled_data = df.iloc[shuffled_indices]\n",
    "full_X = shuffled_data[['Distance','Steps','Avg Temp','Net Elevation']]\n",
    "full_Y = shuffled_data['mph']\n",
    "scores = cross_val_score(lin_reg,full_X,full_Y,scoring='neg_mean_squared_error',cv=5)\n",
    "rms_scores = np.sqrt(-scores)\n",
    "rms_scores"
   ]
  },
  {
   "cell_type": "code",
   "execution_count": 17,
   "metadata": {},
   "outputs": [
    {
     "data": {
      "text/plain": [
       "6.564454401068753"
      ]
     },
     "execution_count": 17,
     "metadata": {},
     "output_type": "execute_result"
    }
   ],
   "source": [
    "# tells how accurately the model can predict pace\n",
    "rms_scores.mean()"
   ]
  },
  {
   "cell_type": "code",
   "execution_count": null,
   "metadata": {},
   "outputs": [],
   "source": []
  }
 ],
 "metadata": {
  "kernelspec": {
   "display_name": "Python 3",
   "language": "python",
   "name": "python3"
  },
  "language_info": {
   "codemirror_mode": {
    "name": "ipython",
    "version": 3
   },
   "file_extension": ".py",
   "mimetype": "text/x-python",
   "name": "python",
   "nbconvert_exporter": "python",
   "pygments_lexer": "ipython3",
   "version": "3.6.4"
  }
 },
 "nbformat": 4,
 "nbformat_minor": 2
}
